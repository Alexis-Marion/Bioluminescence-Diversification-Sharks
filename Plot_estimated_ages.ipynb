{
 "cells": [
  {
   "cell_type": "markdown",
   "metadata": {},
   "source": [
    "# Plot Estimated origination ages"
   ]
  },
  {
   "cell_type": "markdown",
   "metadata": {},
   "source": [
    "### Loading library"
   ]
  },
  {
   "cell_type": "code",
   "execution_count": 1,
   "metadata": {
    "scrolled": true
   },
   "outputs": [
    {
     "name": "stderr",
     "output_type": "stream",
     "text": [
      "Le chargement a nécessité le package : ape\n",
      "\n",
      "Le chargement a nécessité le package : maps\n",
      "\n",
      "\n",
      "Attachement du package : ‘dplyr’\n",
      "\n",
      "\n",
      "L'objet suivant est masqué depuis ‘package:ape’:\n",
      "\n",
      "    where\n",
      "\n",
      "\n",
      "Les objets suivants sont masqués depuis ‘package:stats’:\n",
      "\n",
      "    filter, lag\n",
      "\n",
      "\n",
      "Les objets suivants sont masqués depuis ‘package:base’:\n",
      "\n",
      "    intersect, setdiff, setequal, union\n",
      "\n",
      "\n",
      "\u001b[90mtreeio v1.26.0 For help: https://yulab-smu.top/treedata-book/\n",
      "\n",
      "If you use the ggtree package suite in published research, please cite\n",
      "the appropriate paper(s):\n",
      "\n",
      "LG Wang, TTY Lam, S Xu, Z Dai, L Zhou, T Feng, P Guo, CW Dunn, BR\n",
      "Jones, T Bradley, H Zhu, Y Guan, Y Jiang, G Yu. treeio: an R package\n",
      "for phylogenetic tree input and output with richly annotated and\n",
      "associated data. Molecular Biology and Evolution. 2020, 37(2):599-603.\n",
      "doi: 10.1093/molbev/msz240\n",
      "\n",
      "S Xu, Z Dai, P Guo, X Fu, S Liu, L Zhou, W Tang, T Feng, M Chen, L\n",
      "Zhan, T Wu, E Hu, Y Jiang, X Bo, G Yu. ggtreeExtra: Compact\n",
      "visualization of richly annotated phylogenetic data. Molecular Biology\n",
      "and Evolution. 2021, 38(9):4039-4042. doi: 10.1093/molbev/msab166\n",
      "\n",
      "Guangchuang Yu. Using ggtree to visualize data on tree-like structures.\n",
      "Current Protocols in Bioinformatics. 2020, 69:e96. doi:10.1002/cpbi.96\n",
      "\u001b[39m\n",
      "\n",
      "\n",
      "Attachement du package : ‘treeio’\n",
      "\n",
      "\n",
      "L'objet suivant est masqué depuis ‘package:dispRity’:\n",
      "\n",
      "    get.tree\n",
      "\n",
      "\n",
      "L'objet suivant est masqué depuis ‘package:phytools’:\n",
      "\n",
      "    read.newick\n",
      "\n",
      "\n"
     ]
    }
   ],
   "source": [
    "library(\"stringr\")\n",
    "library(\"phytools\")\n",
    "library(\"dispRity\")\n",
    "library(\"dplyr\")\n",
    "library(\"deeptime\")\n",
    "library(\"ggplot2\")\n",
    "library(\"treeio\")\n",
    "library(\"stringr\")\n",
    "library(\"cowplot\")"
   ]
  },
  {
   "cell_type": "markdown",
   "metadata": {},
   "source": [
    "### Loading datasets"
   ]
  },
  {
   "cell_type": "code",
   "execution_count": 2,
   "metadata": {},
   "outputs": [],
   "source": [
    "phy_list <- read.tree(\"../../raw_data/Squaliformes_posterior_distribution.tree\")"
   ]
  },
  {
   "cell_type": "code",
   "execution_count": 3,
   "metadata": {},
   "outputs": [],
   "source": [
    "table_habitat_sp <- read.table(\"../../raw_data/whole_tab_species_habitat_ts_te.tsv\", sep =\"\\t\")"
   ]
  },
  {
   "cell_type": "code",
   "execution_count": 4,
   "metadata": {},
   "outputs": [],
   "source": [
    "table_habitat_gn <- read.table(\"../../raw_data/whole_tab_genus_habitat_ts_te.tsv\", sep =\"\\t\")"
   ]
  },
  {
   "cell_type": "markdown",
   "metadata": {},
   "source": [
    "### Preparing groups"
   ]
  },
  {
   "cell_type": "code",
   "execution_count": 5,
   "metadata": {},
   "outputs": [],
   "source": [
    "Squalidae <-c('Squalus_blainvillei', 'Squalus_megalops', 'Squalus_albicaudus', 'Squalus_raoulensis', 'Squalus_formosus', 'Squalus_crassispinus', 'Squalus_brevirostris', 'Squalus_hemipinnis', 'Squalus_edmundsi', 'Squalus_mitsukurii', 'Squalus_japonicus', 'Squalus_nasutus', 'Squalus_grahami', 'Squalus_cubensis', 'Squalus_montalbani', 'Squalus_chloroculus', 'Squalus_acanthias', 'Squalus_suckleyi', 'Cirrhigaleus_australis', 'Cirrhigaleus_barbifer', 'Cirrhigaleus_asper')\n",
    "Centrophoridae <-c('Centrophorus_squamosus', 'Centrophorus_granulosus', 'Centrophorus_zeehaani', 'Centrophorus_uyato', 'Centrophorus_atromarginatus', 'Centrophorus_longipinnis', 'Centrophorus_isodon', 'Centrophorus_tessellatus', 'Centrophorus_westraliensis', 'Centrophorus_harrissoni', 'Centrophorus_lesliei', 'Centrophorus_lusitanicus', 'Deania_hystricosa', 'Deania_calcea', 'Deania_profundorum', 'Deania_quadrispinosa')\n",
    "Dalatiidae <-c('Squaliolus_aliae', 'Euprotomicrus_bispinatus', 'Squaliolus_laticaudus', 'Dalatias_licha', 'Isistius_brasiliensis')\n",
    "Somniosidae <-c('Centroscymnus_owstonii', 'Oxynotus_paradoxus', 'Oxynotus_bruniensis', 'Oxynotus_centrina', 'Scymnodon_ringens', 'Centroscymnus_coelolepis', 'Scymnodon_ichiharai', 'Scymnodalatias_albicauda', 'Centroselachus_crepidater', 'Zameus_squamulosus', 'Somniosus_microcephalus', 'Rhinoscymnus_rostratus')\n",
    "Etmopteridae <-c('Etmopterus_brachyurus', 'Etmopterus_samadiae', 'Etmopterus_sheikoi', 'Etmopterus_evansi', 'Etmopterus_brosei', 'Etmopterus_molleri', 'Etmopterus_pycnolepis', 'Etmopterus_lucifer', 'Etmopterus_dislineatus', 'Etmopterus_alphus', 'Etmopterus_bullisi', 'Etmopterus_bigelowi', 'Etmopterus_pusillus', 'Etmopterus_fusus', 'Etmopterus_splendidus', 'Etmopterus_pseudosqualiolus', 'Etmopterus_sentosus', 'Etmopterus_unicolor', 'Etmopterus_princeps', 'Etmopterus_spinax', 'Etmopterus_viator', 'Etmopterus_litvinovi', 'Etmopterus_granulosus', 'Etmopterus_compagnoi', 'Etmopterus_dianthus', 'Etmopterus_schultzi', 'Etmopterus_polli', 'Etmopterus_virens', 'Etmopterus_gracilispinis', 'Etmopterus_carteri', 'Centroscyllium_fabricii', 'Centroscyllium_ritteri', 'Centroscyllium_granulatum', 'Centroscyllium_nigrum', 'Aculeola_nigra', 'Trigonognathus_kabeyai')\n",
    "Etmopterus <-c('Etmopterus_brachyurus','Etmopterus_samadiae','Etmopterus_sheikoi','Etmopterus_evansi','Etmopterus_brosei','Etmopterus_molleri','Etmopterus_pycnolepis','Etmopterus_lucifer','Etmopterus_dislineatus','Etmopterus_alphus','Etmopterus_bullisi','Etmopterus_bigelowi','Etmopterus_pusillus','Etmopterus_fusus','Etmopterus_splendidus','Etmopterus_pseudosqualiolus','Etmopterus_sentosus','Etmopterus_unicolor','Etmopterus_princeps','Etmopterus_spinax','Etmopterus_viator','Etmopterus_litvinovi','Etmopterus_granulosus','Etmopterus_compagnoi','Etmopterus_dianthus','Etmopterus_schultzi','Etmopterus_polli','Etmopterus_virens','Etmopterus_gracilispinis','Etmopterus_carteri')\n",
    "Somniosidae_reduced <-c('Centroscymnus_owstonii','Oxynotus_paradoxus','Oxynotus_bruniensis','Oxynotus_centrina','Scymnodon_ringens','Centroscymnus_coelolepis','Scymnodon_ichiharai','Scymnodalatias_albicauda','Centroselachus_crepidater','Zameus_squamulosus')\n",
    "Bioluminescent <- c(Dalatiidae, Somniosidae, Etmopteridae)"
   ]
  },
  {
   "cell_type": "markdown",
   "metadata": {},
   "source": [
    "## Creating useful functions"
   ]
  },
  {
   "cell_type": "markdown",
   "metadata": {},
   "source": [
    "### Prepare table for plotting (habitat)"
   ]
  },
  {
   "cell_type": "code",
   "execution_count": 6,
   "metadata": {},
   "outputs": [],
   "source": [
    "table_habitat_maker <- function(tab){\n",
    "    for (i in 1:nrow(tab)){\n",
    "        temp_tab <- tab\n",
    "        vec_habitat <- c()\n",
    "        vec_age <- c()\n",
    "        if(\"D\" %in% tab$Habitat){\n",
    "            temp_tab_D <- temp_tab %>% filter(Habitat == \"D\")\n",
    "            temp_tab_D <- temp_tab_D[,grepl(\"ts_rep_\", colnames(temp_tab_D))]\n",
    "            temp_tab_D <- temp_tab_D[which.max(apply(temp_tab_D, 1, FUN=mean)),]\n",
    "            vec_habitat <- c(\"D\")\n",
    "            vec_age <- c(t(temp_tab_D))\n",
    "        }\n",
    "        if(\"M\" %in% tab$Habitat){\n",
    "            temp_tab_M <- temp_tab %>% filter(Habitat == \"M\")\n",
    "            temp_tab_M <- temp_tab_M[,grepl(\"ts_rep_\", colnames(temp_tab_M))]\n",
    "            temp_tab_M <- temp_tab_M[which.max(apply(temp_tab_M, 1, FUN=mean)),]\n",
    "            vec_habitat <- c(vec_habitat, \"M\")\n",
    "            vec_age <- c(vec_age, t(temp_tab_M))\n",
    "        }\n",
    "        if(\"S\" %in% tab$Habitat){\n",
    "            temp_tab_S <- temp_tab %>% filter(Habitat == \"S\")\n",
    "            temp_tab_S <- temp_tab_S[,grepl(\"ts_rep_\", colnames(temp_tab_S))]\n",
    "            temp_tab_S <- temp_tab_S[which.max(apply(temp_tab_S, 1, FUN=mean)),]\n",
    "            vec_habitat <- c(vec_habitat, \"S\")\n",
    "            vec_age <- c(vec_age, t(temp_tab_S))\n",
    "        }\n",
    "        return(data.frame(habitat=factor(rep(vec_habitat, each=20)), age = vec_age))\n",
    "    }\n",
    "}"
   ]
  },
  {
   "cell_type": "markdown",
   "metadata": {},
   "source": [
    "### Prepare table for plotting (bioluminescence)"
   ]
  },
  {
   "cell_type": "code",
   "execution_count": 7,
   "metadata": {},
   "outputs": [],
   "source": [
    "table_biol_maker <- function (tab, phy_list, taxa_list){\n",
    "    TO_C <- c()\n",
    "    TO_S <- c()\n",
    "    for (i in 1:100) {\n",
    "        phy <- phy_list[[i]]\n",
    "        tree_ages <- tree.age(phy, order = \"past\", fossil = TRUE, \n",
    "            digits = 3)\n",
    "        if(length(taxa_list) == 1){\n",
    "            TO_C <- c(TO_C, 0)\n",
    "            TO_S <- c(TO_S, tree_ages[tree_ages[, 2] == phy$edge[phy$edge[,2] == which(phy$tip.label == taxa_list), 1], ][, 1])\n",
    "        }\n",
    "        else{\n",
    "            TO_C <- c(TO_C, tree_ages[tree_ages[, 2] == getMRCA(phy, taxa_list), ][, 1])\n",
    "            TO_S <- c(TO_S, tree_ages[tree_ages[, 2] == phy$edge[phy$edge[,2] == getMRCA(phy, taxa_list), 1], ][, 1])\n",
    "            \n",
    "        }\n",
    "    }\n",
    "    temp_tab <- tab\n",
    "    temp_tab <- temp_tab[, grepl(\"ts_rep_\", colnames(temp_tab))]\n",
    "    temp_tab <- temp_tab[which.max(apply(temp_tab, 1, FUN = mean)), ]\n",
    "    \n",
    "    return(data.frame(habitat = factor(rep(c(\"TO_S\", \"TO_S\", \"TO_S\", \"TO_S\", \"TO_S\", \"F\", \"TO_C\", \"TO_C\", \"TO_C\", \"TO_C\", \"TO_C\"), \n",
    "        each = 20)), age = c(TO_S, t(temp_tab),  TO_C)))\n",
    "}"
   ]
  },
  {
   "cell_type": "markdown",
   "metadata": {},
   "source": [
    "### Prepare table for plotting (bioluminescence & deepwater colonisation)"
   ]
  },
  {
   "cell_type": "code",
   "execution_count": 8,
   "metadata": {},
   "outputs": [],
   "source": [
    "table_deep_biol_maker <- function (tab, phy_list, taxa_list){\n",
    "    TO_C <- c()\n",
    "    TO_S <- c()\n",
    "    for (i in 1:100) {\n",
    "        phy <- phy_list[[i]]\n",
    "        tree_ages <- tree.age(phy, order = \"past\", fossil = TRUE, \n",
    "            digits = 3)\n",
    "        if(length(taxa_list) == 1){\n",
    "            TO_C <- c(TO_C, 0)\n",
    "            TO_S <- c(TO_S, tree_ages[tree_ages[, 2] == phy$edge[phy$edge[,2] == which(phy$tip.label == taxa_list), 1], ][, 1])\n",
    "        }\n",
    "        else{\n",
    "            TO_C <- c(TO_C, tree_ages[tree_ages[, 2] == getMRCA(phy, taxa_list), ][, 1])\n",
    "            TO_S <- c(TO_S, tree_ages[tree_ages[, 2] == phy$edge[phy$edge[,2] == getMRCA(phy, taxa_list), 1], ][, 1])\n",
    "            \n",
    "        }\n",
    "    }\n",
    "    temp_tab <- tab\n",
    "    temp_tab_D <- temp_tab %>% filter(Habitat == \"D\")\n",
    "    temp_tab_D <- temp_tab_D[,grepl(\"ts_rep_\", colnames(temp_tab_D))]\n",
    "    temp_tab_D <- temp_tab_D[which.max(apply(temp_tab_D, 1, FUN=mean)),]\n",
    "    \n",
    "    return(data.frame(habitat = factor(rep(c(\"TO_S\", \"TO_S\", \"TO_S\", \"TO_S\", \"TO_S\", \"F\", \"TO_C\", \"TO_C\", \"TO_C\", \"TO_C\", \"TO_C\"), \n",
    "        each = 20)), age = c(TO_S, t(temp_tab_D),  TO_C)))\n",
    "}"
   ]
  },
  {
   "cell_type": "markdown",
   "metadata": {},
   "source": [
    "### Make plots for habitat"
   ]
  },
  {
   "cell_type": "code",
   "execution_count": 9,
   "metadata": {},
   "outputs": [],
   "source": [
    "plot_maker_age <- function(tab, min_age, max_age){\n",
    "    p<-ggplot(tab, aes(x=age, fill=habitat)) +\n",
    "        geom_density(alpha=0.4) + \n",
    "        xlim(max_age, min_age) +\n",
    "        theme_bw() +\n",
    "        theme(panel.border = element_blank(),\n",
    "        legend.key = element_blank(),\n",
    "        axis.ticks = element_blank(),\n",
    "        axis.text.x = element_blank(),\n",
    "        panel.grid = element_blank(),\n",
    "        panel.grid.minor = element_blank(), \n",
    "        panel.grid.major = element_blank(),\n",
    "        panel.background = element_blank(),\n",
    "        plot.background = element_rect(fill = \"transparent\",colour = NA)) + \n",
    "        scale_fill_manual(values=c(\"#D2B48C\", \"#405BBC\", \"#40826D\")) + \n",
    "        coord_geo(dat = list(\"stage\", \"epochs\"), pos = as.list(rep(\"bottom\", 2)), abbrv = FALSE, height = list(unit(1, \"lines\"), unit(1, \"lines\")),  size = list(2.5, 2.5))\n",
    "    return(p)\n",
    "}"
   ]
  },
  {
   "cell_type": "markdown",
   "metadata": {},
   "source": [
    "### Make plots for bioluminescence"
   ]
  },
  {
   "cell_type": "code",
   "execution_count": 10,
   "metadata": {},
   "outputs": [],
   "source": [
    "plot_maker_age_biol <- function(tab, min_age, max_age){\n",
    "    p<-ggplot(tab, aes(x=age, fill=habitat)) +\n",
    "        geom_density(alpha=0.4) + \n",
    "        xlim(max_age, min_age) +\n",
    "        theme_bw() +\n",
    "        theme(panel.border = element_blank(),\n",
    "        legend.key = element_blank(),\n",
    "        axis.ticks = element_blank(),\n",
    "        axis.text.x = element_blank(),\n",
    "        panel.grid = element_blank(),\n",
    "        panel.grid.minor = element_blank(), \n",
    "        panel.grid.major = element_blank(),\n",
    "        panel.background = element_blank(),\n",
    "        plot.background = element_rect(fill = \"transparent\",colour = NA))  + \n",
    "        scale_fill_manual(values=c(\"#D2B48C\", \"#40826D\", \"#405BBC\")) +\n",
    "        coord_geo(dat = list(\"stage\", \"epochs\"), pos = as.list(rep(\"bottom\", 2)), abbrv = FALSE, height = list(unit(1, \"lines\"), unit(1, \"lines\")),  size = list(2.5, 2.5))\n",
    "        return(p)\n",
    "}"
   ]
  },
  {
   "cell_type": "markdown",
   "metadata": {},
   "source": [
    "## Species lineages"
   ]
  },
  {
   "cell_type": "markdown",
   "metadata": {},
   "source": [
    "### Filter lineages"
   ]
  },
  {
   "cell_type": "code",
   "execution_count": 11,
   "metadata": {},
   "outputs": [],
   "source": [
    "table_habitat_sp_Etmopteridae <- table_habitat_sp %>% filter(Family == \"Etmopteridae\")\n",
    "\n",
    "table_habitat_sp_Somniosidae <- table_habitat_sp %>% filter(Family == \"Somniosidae\")\n",
    "\n",
    "table_habitat_sp_Dalatiidae <- table_habitat_sp %>% filter(Family == \"Dalatiidae\")\n",
    "\n",
    "table_habitat_sp_Centrophoridae <- table_habitat_sp %>% filter(Family == \"Centrophoridae\")\n",
    "\n",
    "table_habitat_sp_Squalidae <- table_habitat_sp %>% filter(Family == \"Squalidae\")\n",
    "\n",
    "table_habitat_sp_Zameus <- table_habitat_sp %>% filter(Genus == \"Zameus\")\n",
    "\n",
    "table_habitat_sp_Bioluminescent <- table_habitat_sp %>% filter(Family != \"Centrophoridae\") %>% filter(Family != \"Squalidae\")"
   ]
  },
  {
   "cell_type": "markdown",
   "metadata": {},
   "source": [
    "### Prepare table (habitat)"
   ]
  },
  {
   "cell_type": "code",
   "execution_count": 12,
   "metadata": {},
   "outputs": [],
   "source": [
    "tab_Squalidae_sp <- table_habitat_maker(table_habitat_sp_Squalidae)\n",
    "\n",
    "tab_Centrophoridae_sp <- table_habitat_maker(table_habitat_sp_Centrophoridae)\n",
    "\n",
    "tab_Dalatiidae_sp <- table_habitat_maker(table_habitat_sp_Dalatiidae)\n",
    "\n",
    "tab_Somniosidae_sp <- table_habitat_maker(table_habitat_sp_Somniosidae)\n",
    "\n",
    "tab_Etmopteridae_sp <- table_habitat_maker(table_habitat_sp_Etmopteridae)"
   ]
  },
  {
   "cell_type": "markdown",
   "metadata": {},
   "source": [
    "### Prepare table (bioluminescence)"
   ]
  },
  {
   "cell_type": "code",
   "execution_count": 13,
   "metadata": {},
   "outputs": [],
   "source": [
    "biol_Squalidae_sp <- table_biol_maker(table_habitat_sp_Squalidae, phy_list, Squalidae)\n",
    "\n",
    "biol_Centrophoridae_sp <- table_biol_maker(table_habitat_sp_Centrophoridae, phy_list, Centrophoridae)\n",
    "\n",
    "biol_Dalatiidae_sp <- table_biol_maker(table_habitat_sp_Dalatiidae, phy_list, Dalatiidae)\n",
    "\n",
    "biol_Somniosidae_sp <- table_biol_maker(table_habitat_sp_Somniosidae, phy_list, Somniosidae)\n",
    "\n",
    "biol_Etmopteridae_sp <- table_biol_maker(table_habitat_sp_Etmopteridae, phy_list, Etmopteridae)\n",
    "\n",
    "biol_Zameus_sp <- table_biol_maker(table_habitat_sp_Zameus, phy_list, \"Zameus_squamulosus\")"
   ]
  },
  {
   "cell_type": "markdown",
   "metadata": {},
   "source": [
    "### Prepare table (bioluminescence & deepwater colonisation)"
   ]
  },
  {
   "cell_type": "code",
   "execution_count": 14,
   "metadata": {},
   "outputs": [],
   "source": [
    "deep_biol_Bioluminescent_sp <- table_deep_biol_maker(table_habitat_sp_Bioluminescent, phy_list, Bioluminescent)\n",
    "\n",
    "deep_biol_Dalatiidae_sp <- table_deep_biol_maker(table_habitat_sp_Dalatiidae, phy_list, Dalatiidae)\n",
    "\n",
    "deep_biol_Etmopteridae_sp <- table_deep_biol_maker(table_habitat_sp_Etmopteridae, phy_list, Etmopteridae)\n",
    "\n",
    "deep_biol_Zameus_sp <- table_deep_biol_maker(table_habitat_sp_Zameus, phy_list, \"Zameus_squamulosus\")"
   ]
  },
  {
   "cell_type": "markdown",
   "metadata": {},
   "source": [
    "### Prepare plots (habitat)"
   ]
  },
  {
   "cell_type": "code",
   "execution_count": 15,
   "metadata": {},
   "outputs": [],
   "source": [
    "b1_s<- plot_maker_age(tab_Squalidae_sp, 66, 145)\n",
    "\n",
    "b2_s<- plot_maker_age(tab_Centrophoridae_sp, 56, 100.5)\n",
    "\n",
    "b3_s<- plot_maker_age(tab_Dalatiidae_sp, 56, 100.5)\n",
    "\n",
    "b4_s<- plot_maker_age(tab_Somniosidae_sp, 66, 100.5)\n",
    "\n",
    "b5_s<- plot_maker_age(tab_Etmopteridae_sp, 66, 100.5)"
   ]
  },
  {
   "cell_type": "markdown",
   "metadata": {},
   "source": [
    "### Prepare plots (bioluminescence)"
   ]
  },
  {
   "cell_type": "code",
   "execution_count": 16,
   "metadata": {},
   "outputs": [],
   "source": [
    "p1_s<-plot_maker_age_biol(biol_Squalidae_sp, 20, 160)\n",
    "\n",
    "p2_s<-plot_maker_age_biol(biol_Centrophoridae_sp, 30, 160)\n",
    "\n",
    "p3_s<-plot_maker_age_biol(biol_Dalatiidae_sp, 66, 160)\n",
    "\n",
    "p4_s<-plot_maker_age_biol(biol_Somniosidae_sp, 80, 150)\n",
    "\n",
    "p5_s<-plot_maker_age_biol(biol_Etmopteridae_sp, 66, 150)\n",
    "\n",
    "p6_s<-plot_maker_age_biol(biol_Zameus_sp, 0, 66)"
   ]
  },
  {
   "cell_type": "markdown",
   "metadata": {},
   "source": [
    "### Prepare plots (bioluminescence & deepwater colonisation)"
   ]
  },
  {
   "cell_type": "code",
   "execution_count": 17,
   "metadata": {},
   "outputs": [],
   "source": [
    "bp1_s<-plot_maker_age_biol(deep_biol_Bioluminescent_sp, 75, 180)\n",
    "\n",
    "bp2_s<-plot_maker_age_biol(deep_biol_Dalatiidae_sp, 66, 160)\n",
    "\n",
    "bp3_s<-plot_maker_age_biol(deep_biol_Etmopteridae_sp, 66, 160)\n",
    "\n",
    "bp4_s<-plot_maker_age_biol(deep_biol_Zameus_sp, 0, 66)"
   ]
  },
  {
   "cell_type": "markdown",
   "metadata": {},
   "source": [
    "## Genus lineages"
   ]
  },
  {
   "cell_type": "markdown",
   "metadata": {},
   "source": [
    "### Filter lineages"
   ]
  },
  {
   "cell_type": "code",
   "execution_count": 18,
   "metadata": {},
   "outputs": [],
   "source": [
    "table_habitat_gn_Etmopteridae <- table_habitat_gn %>% filter(Family == \"Etmopteridae\")\n",
    "\n",
    "table_habitat_gn_Somniosidae <- table_habitat_gn %>% filter(Family == \"Somniosidae\")\n",
    "\n",
    "table_habitat_gn_Dalatiidae <- table_habitat_gn %>% filter(Family == \"Dalatiidae\")\n",
    "\n",
    "table_habitat_gn_Centrophoridae <- table_habitat_gn %>% filter(Family == \"Centrophoridae\")\n",
    "\n",
    "table_habitat_gn_Squalidae <- table_habitat_gn %>% filter(Family == \"Squalidae\")\n",
    "\n",
    "table_habitat_gn_Zameus <- table_habitat_gn %>% filter(Genus == \"Zameus\")\n",
    "\n",
    "table_habitat_gn_Bioluminescent <- table_habitat_gn %>% filter(Family != \"Centrophoridae\") %>% filter(Family != \"Squalidae\")"
   ]
  },
  {
   "cell_type": "markdown",
   "metadata": {},
   "source": [
    "### Prepare table (habitat)"
   ]
  },
  {
   "cell_type": "code",
   "execution_count": 19,
   "metadata": {},
   "outputs": [],
   "source": [
    "tab_Squalidae_gn <- table_habitat_maker(table_habitat_gn_Squalidae)\n",
    "\n",
    "tab_Centrophoridae_gn <- table_habitat_maker(table_habitat_gn_Centrophoridae)\n",
    "\n",
    "tab_Dalatiidae_gn <- table_habitat_maker(table_habitat_gn_Dalatiidae)\n",
    "\n",
    "tab_Somniosidae_gn <- table_habitat_maker(table_habitat_gn_Somniosidae)\n",
    "\n",
    "tab_Etmopteridae_gn <- table_habitat_maker(table_habitat_gn_Etmopteridae)"
   ]
  },
  {
   "cell_type": "markdown",
   "metadata": {},
   "source": [
    "### Prepare table (bioluminescence)"
   ]
  },
  {
   "cell_type": "code",
   "execution_count": 20,
   "metadata": {},
   "outputs": [],
   "source": [
    "biol_Squalidae_gn <- table_biol_maker(table_habitat_gn_Squalidae, phy_list, Squalidae)\n",
    "\n",
    "biol_Centrophoridae_gn <- table_biol_maker(table_habitat_gn_Centrophoridae, phy_list, Centrophoridae)\n",
    "\n",
    "biol_Dalatiidae_gn <- table_biol_maker(table_habitat_gn_Dalatiidae, phy_list, Dalatiidae)\n",
    "\n",
    "biol_Somniosidae_gn <- table_biol_maker(table_habitat_gn_Somniosidae, phy_list, Somniosidae)\n",
    "\n",
    "biol_Etmopteridae_gn <- table_biol_maker(table_habitat_gn_Etmopteridae, phy_list, Etmopteridae)\n",
    "\n",
    "biol_Zameus_gn <- table_biol_maker(table_habitat_gn_Zameus, phy_list, \"Zameus_squamulosus\")"
   ]
  },
  {
   "cell_type": "markdown",
   "metadata": {},
   "source": [
    "### Prepare table (bioluminescence & deepwater colonisation)"
   ]
  },
  {
   "cell_type": "code",
   "execution_count": 21,
   "metadata": {},
   "outputs": [],
   "source": [
    "deep_biol_Bioluminescent_gn <- table_deep_biol_maker(table_habitat_gn_Bioluminescent, phy_list, Bioluminescent)\n",
    "\n",
    "deep_biol_Dalatiidae_gn <- table_deep_biol_maker(table_habitat_gn_Dalatiidae, phy_list, Dalatiidae)\n",
    "\n",
    "deep_biol_Etmopteridae_gn <- table_deep_biol_maker(table_habitat_gn_Etmopteridae, phy_list, Etmopteridae)\n",
    "\n",
    "deep_biol_Zameus_gn <- table_deep_biol_maker(table_habitat_gn_Zameus, phy_list, \"Zameus_squamulosus\")"
   ]
  },
  {
   "cell_type": "markdown",
   "metadata": {},
   "source": [
    "### Prepare plots (habitat)"
   ]
  },
  {
   "cell_type": "code",
   "execution_count": 22,
   "metadata": {},
   "outputs": [],
   "source": [
    "b1_g <- plot_maker_age(tab_Squalidae_gn, 66, 145)\n",
    "\n",
    "b2_g <- plot_maker_age(tab_Centrophoridae_gn, 56, 100.5)\n",
    "\n",
    "b3_g <- plot_maker_age(tab_Dalatiidae_gn, 56, 100.5)\n",
    "\n",
    "b4_g <- plot_maker_age(tab_Somniosidae_gn, 66, 100.5)\n",
    "\n",
    "b5_g <- plot_maker_age(tab_Etmopteridae_gn, 66, 100.5)"
   ]
  },
  {
   "cell_type": "markdown",
   "metadata": {},
   "source": [
    "### Prepare plots (bioluminescence)"
   ]
  },
  {
   "cell_type": "code",
   "execution_count": 23,
   "metadata": {},
   "outputs": [],
   "source": [
    "p1_g <- plot_maker_age_biol(biol_Squalidae_gn, 20, 160)\n",
    "\n",
    "p2_g <- plot_maker_age_biol(biol_Centrophoridae_gn, 30, 160)\n",
    "\n",
    "p3_g <- plot_maker_age_biol(biol_Dalatiidae_gn, 66, 160)\n",
    "\n",
    "p4_g <- plot_maker_age_biol(biol_Somniosidae_gn, 80, 150)\n",
    "\n",
    "p5_g <- plot_maker_age_biol(biol_Etmopteridae_gn, 66, 150)\n",
    "\n",
    "p6_g <- plot_maker_age_biol(biol_Zameus_gn, 0, 66)"
   ]
  },
  {
   "cell_type": "markdown",
   "metadata": {},
   "source": [
    "### Prepare plots (bioluminescence & deepwater colonisation)"
   ]
  },
  {
   "cell_type": "code",
   "execution_count": 24,
   "metadata": {},
   "outputs": [],
   "source": [
    "bp1_g<-plot_maker_age_biol(deep_biol_Bioluminescent_gn, 75, 160)\n",
    "\n",
    "bp2_g<-plot_maker_age_biol(deep_biol_Dalatiidae_gn, 66, 160)\n",
    "\n",
    "bp3_g<-plot_maker_age_biol(deep_biol_Etmopteridae_gn, 66, 160)\n",
    "\n",
    "bp4_g<-plot_maker_age_biol(deep_biol_Zameus_gn, 0, 66)"
   ]
  },
  {
   "cell_type": "code",
   "execution_count": 25,
   "metadata": {},
   "outputs": [
    {
     "name": "stderr",
     "output_type": "stream",
     "text": [
      "Warning message:\n",
      "“\u001b[1m\u001b[22mRemoved 20 rows containing non-finite outside the scale range (`stat_density()`).”\n"
     ]
    },
    {
     "data": {
      "text/html": [
       "<strong>png:</strong> 2"
      ],
      "text/latex": [
       "\\textbf{png:} 2"
      ],
      "text/markdown": [
       "**png:** 2"
      ],
      "text/plain": [
       "png \n",
       "  2 "
      ]
     },
     "metadata": {},
     "output_type": "display_data"
    }
   ],
   "source": [
    "pdf(\"tempo_deep_shallow.pdf\", width = 10, height = 20)\n",
    "    plot_grid(b1_s, b1_g, b2_s, b2_g, b3_s, b3_g, b4_s, b4_g, b5_s, b5_g, ncol = 2, rel_widths = c(1/2, 1/2))\n",
    "dev.off()"
   ]
  },
  {
   "cell_type": "code",
   "execution_count": 26,
   "metadata": {},
   "outputs": [
    {
     "data": {
      "text/html": [
       "<strong>png:</strong> 2"
      ],
      "text/latex": [
       "\\textbf{png:} 2"
      ],
      "text/markdown": [
       "**png:** 2"
      ],
      "text/plain": [
       "png \n",
       "  2 "
      ]
     },
     "metadata": {},
     "output_type": "display_data"
    }
   ],
   "source": [
    "pdf(\"tempo_origination.pdf\", width = 10, height = 20)\n",
    "    plot_grid(p1_s, p1_g, p2_s, p2_g, p3_s, p3_g, p4_s, p4_g, p5_s, p5_g, p6_s, p6_g, ncol = 2, rel_widths = c(1/2, 1/2))\n",
    "dev.off()"
   ]
  },
  {
   "cell_type": "code",
   "execution_count": 27,
   "metadata": {},
   "outputs": [
    {
     "data": {
      "text/html": [
       "<strong>png:</strong> 2"
      ],
      "text/latex": [
       "\\textbf{png:} 2"
      ],
      "text/markdown": [
       "**png:** 2"
      ],
      "text/plain": [
       "png \n",
       "  2 "
      ]
     },
     "metadata": {},
     "output_type": "display_data"
    }
   ],
   "source": [
    "pdf(\"tempo_biol_deep.pdf\", width = 10, height = 20)\n",
    "    plot_grid(bp1_s, bp1_g, bp2_s, bp2_g, bp3_s, bp3_g, bp4_s, bp4_g, ncol = 2, rel_widths = c(1/2, 1/2))\n",
    "dev.off()"
   ]
  }
 ],
 "metadata": {
  "kernelspec": {
   "display_name": "R",
   "language": "R",
   "name": "ir"
  },
  "language_info": {
   "codemirror_mode": "r",
   "file_extension": ".r",
   "mimetype": "text/x-r-source",
   "name": "R",
   "pygments_lexer": "r",
   "version": "4.3.3"
  }
 },
 "nbformat": 4,
 "nbformat_minor": 4
}
