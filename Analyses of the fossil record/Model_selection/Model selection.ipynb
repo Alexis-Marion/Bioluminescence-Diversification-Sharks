{
 "cells": [
  {
   "cell_type": "markdown",
   "metadata": {},
   "source": [
    "# Model selection"
   ]
  },
  {
   "cell_type": "markdown",
   "metadata": {},
   "source": [
    "## Data preparation"
   ]
  },
  {
   "cell_type": "markdown",
   "metadata": {},
   "source": [
    "### Loading packages"
   ]
  },
  {
   "cell_type": "code",
   "execution_count": null,
   "metadata": {
    "scrolled": true
   },
   "outputs": [],
   "source": [
    "library(\"dplyr\")"
   ]
  },
  {
   "cell_type": "markdown",
   "metadata": {},
   "source": [
    "### Argument setup"
   ]
  },
  {
   "cell_type": "code",
   "execution_count": null,
   "metadata": {},
   "outputs": [],
   "source": [
    "args = commandArgs(trailingOnly=TRUE)"
   ]
  },
  {
   "cell_type": "markdown",
   "metadata": {},
   "source": [
    "### Listing files to be compared"
   ]
  },
  {
   "cell_type": "code",
   "execution_count": 2,
   "metadata": {},
   "outputs": [],
   "source": [
    "list_files_1<-list.files(args[1], full.names = TRUE)\n",
    "\n",
    "list_files_1<-list_files_1[grepl(\"KEEP_BDS_mcmc.log\",list_files_1)]\n",
    "\n",
    "list_files_2<-list.files(args[2], full.names = TRUE)\n",
    "\n",
    "list_files_2<-list_files_2[grepl(\"KEEP_BDS_mcmc.log\",list_files_2)]"
   ]
  },
  {
   "cell_type": "markdown",
   "metadata": {},
   "source": [
    "### Computing wether the origination and extiction rates, as well as the Ts/Te value are significantly differents between two pair of analyses"
   ]
  },
  {
   "cell_type": "code",
   "execution_count": 3,
   "metadata": {},
   "outputs": [],
   "source": [
    "compute<-function(list_file_1, list_file_2, k, len, funct){\n",
    "data_df<-c()\n",
    "    for (i in 1:len){\n",
    "        \n",
    "        var_conv_1 = \"FALSE\"\n",
    "        var_conv_2 = \"FALSE\"\n",
    "        \n",
    "        file_1<-(list_file_1[grepl(paste(\"_\", i, \"_\", sep = \"\"), list_file_1)])\n",
    "        file_2<-(list_file_2[grepl(paste(\"_\", i, \"_\", sep = \"\"), list_file_2)])\n",
    "        \n",
    "        if(grepl(\"KEEP\", file_1)){\n",
    "            var_conv_1 <- \"TRUE\"\n",
    "        }\n",
    "        \n",
    "        if(grepl(\"KEEP\", file_1)){\n",
    "            var_conv_2 <- \"TRUE\"\n",
    "        }\n",
    "        \n",
    "        file_1<-read.table(file_1, sep =\"\\t\", header = TRUE)\n",
    "        file_2<-read.table(file_2, sep =\"\\t\", header = TRUE)\n",
    "        \n",
    "        file_1<-file_1[-c(1:nrow(file_1)*k),]\n",
    "\n",
    "        l1_tot<-file_1[,grepl(\"lambda_\",colnames(file_1))]\n",
    "        m1_tot<-file_1[,grepl(\"mu_\",colnames(file_1))]\n",
    "        TS1_tot<-file_1[,grepl(\"_TS\",colnames(file_1))]\n",
    "        TE1_tot<-file_1[,grepl(\"_TE\",colnames(file_1))]\n",
    "        \n",
    "        file_2<-file_2[-c(1:nrow(file_2)*k),]\n",
    "\n",
    "        l2_tot<-file_2[,grepl(\"lambda_\",colnames(file_2))]\n",
    "        m2_tot<-file_2[,grepl(\"mu_\",colnames(file_2))]\n",
    "        TS2_tot<-file_2[,grepl(\"_TS\",colnames(file_2))]\n",
    "        TE2_tot<-file_2[,grepl(\"_TE\",colnames(file_2))]\n",
    "        \n",
    "        if(ncol(TS1_tot) != ncol(TS2_tot)){\n",
    "            \n",
    "            maxlist_TS<-list(TS1_tot,TS2_tot)\n",
    "            maxlist_TE<-list(TE1_tot,TE2_tot)\n",
    "            \n",
    "            TSmax<-maxlist_TS[[which.max(c(ncol(TS1_tot),ncol(TS2_tot)))]]\n",
    "            TSmin<-maxlist_TS[[which.min(c(ncol(TS1_tot),ncol(TS2_tot)))]]\n",
    "            TEmax<-maxlist_TE[[which.max(c(ncol(TE1_tot),ncol(TE2_tot)))]]\n",
    "            TEmin<-maxlist_TE[[which.min(c(ncol(TE1_tot),ncol(TE2_tot)))]]\n",
    "            \n",
    "            maxlist_TS[[which.max(c(ncol(TS1_tot),ncol(TS2_tot)))]]<-TSmax[,colnames(TSmax) %in% colnames(TSmin)]\n",
    "            maxlist_TE[[which.max(c(ncol(TE1_tot),ncol(TE2_tot)))]]<-TEmax[,colnames(TEmax) %in% colnames(TEmin)]\n",
    "            \n",
    "            TS1_tot<-maxlist_TS[[1]]\n",
    "            TS2_tot<-maxlist_TS[[2]]\n",
    "            TE1_tot<-maxlist_TE[[1]]\n",
    "            TE2_tot<-maxlist_TE[[2]]\n",
    "        }\n",
    "        \n",
    "        lst<-list(list(l1_tot, l2_tot), list(m1_tot, m2_tot), list(TS1_tot, TS2_tot), list(TE1_tot, TE2_tot))\n",
    "        \n",
    "        for (j in 1:4){\n",
    "            if (j == 1){\n",
    "                var <- \"Lambda\"\n",
    "            }\n",
    "            if (j == 2){\n",
    "                var <- \"Mu\"\n",
    "            }\n",
    "            if (j == 3){\n",
    "                var <- \"TS\"\n",
    "            }\n",
    "            if (j == 4){\n",
    "                var <- \"TE\"\n",
    "            }\n",
    "            temp_data1<-apply(X = lst[[j]][[1]], MARGIN = 2, FUN = funct)\n",
    "            temp_data2<-apply(X = lst[[j]][[2]], MARGIN = 2, FUN = funct)\n",
    "            if(shapiro.test(temp_data1)$p<0.05|shapiro.test(temp_data2)$p<0.05){\n",
    "                mean_diff<-wilcox.test\n",
    "                test<-\"Wilcoxon\"\n",
    "            }else{\n",
    "                mean_diff<-t.test\n",
    "                test<-\"T.test\"\n",
    "            }\n",
    "            res <- mean_diff(temp_data1, temp_data2, paired = TRUE, conf.int = TRUE, conf.level = 0.95, exact = TRUE)\n",
    "            data_df<-rbind(data_df,c(i, var, test, round(res$statistic, 3), round(res$p.value, 3), round(res$estimate, 3), round(res$conf.int[1], 3), round(res$conf.int[2], 3), var_conv_1, var_conv_2))\n",
    "        }\n",
    "    }\n",
    "    data_df<-as.data.frame(data_df)\n",
    "    colnames(data_df)<-c(\"Replicates\", \"Estimated Parameters\", \"Test\", \"Statistic\", \"p.value\",\"Mean/Median difference\", \"Lower interval\", \"Upper interval\", \"Conv_1\", \"Conv_2\")\n",
    "    return(data_df)\n",
    "}"
   ]
  },
  {
   "cell_type": "code",
   "execution_count": null,
   "metadata": {
    "scrolled": true
   },
   "outputs": [],
   "source": [
    "write.table(compute(list_files_1, list_files_2, 0.01, 20, median), args[3], sep =\"\\t\", row.names = FALSE)"
   ]
  }
 ],
 "metadata": {
  "kernelspec": {
   "display_name": "R",
   "language": "R",
   "name": "ir"
  },
  "language_info": {
   "codemirror_mode": "r",
   "file_extension": ".r",
   "mimetype": "text/x-r-source",
   "name": "R",
   "pygments_lexer": "r",
   "version": "4.3.3"
  }
 },
 "nbformat": 4,
 "nbformat_minor": 4
}
