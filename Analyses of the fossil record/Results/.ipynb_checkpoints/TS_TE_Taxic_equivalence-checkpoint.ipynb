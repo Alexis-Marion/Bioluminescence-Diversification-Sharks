{
 "cells": [
  {
   "cell_type": "code",
   "execution_count": 1,
   "metadata": {},
   "outputs": [],
   "source": [
    "library(\"ape\")\n",
    "library(\"stringr\")"
   ]
  },
  {
   "cell_type": "code",
   "execution_count": 64,
   "metadata": {},
   "outputs": [],
   "source": [
    "data_table<-read.table(\"../../raw_data/Data_taxo_sp.tsv\", header = TRUE)"
   ]
  },
  {
   "cell_type": "code",
   "execution_count": 2,
   "metadata": {},
   "outputs": [],
   "source": [
    "tree_list<-read.tree(\"../../raw_data/Squaliformes_posterior_distribution.tree\")"
   ]
  },
  {
   "cell_type": "code",
   "execution_count": 3,
   "metadata": {},
   "outputs": [],
   "source": [
    "tabl<-read.table(\"Species_combined/Occ_sp_Squali_TaxonList.txt\", sep =\"\\t\", header = TRUE)"
   ]
  },
  {
   "cell_type": "code",
   "execution_count": 4,
   "metadata": {},
   "outputs": [],
   "source": [
    "lst_files<-list.files(\"Species_combined/TS_TE/\", full.names = TRUE)"
   ]
  },
  {
   "cell_type": "code",
   "execution_count": 46,
   "metadata": {},
   "outputs": [],
   "source": [
    "tab<-list.files(\"Species_combined/TS_TE_output/output_ltt/\", full.names = TRUE)"
   ]
  },
  {
   "cell_type": "code",
   "execution_count": 65,
   "metadata": {
    "scrolled": true
   },
   "outputs": [
    {
     "name": "stdout",
     "output_type": "stream",
     "text": [
      "[1] 14\n",
      "[1] 17\n",
      "[1] 6\n",
      "[1] 7\n",
      "[1] 2\n",
      "[1] 16\n",
      "[1] 15\n",
      "[1] 11\n",
      "[1] 18\n",
      "[1] 3\n",
      "[1] 1\n",
      "[1] 19\n",
      "[1] 8\n",
      "[1] 20\n",
      "[1] 14\n",
      "[1] 5\n",
      "[1] 9\n",
      "[1] 12\n",
      "[1] 4\n",
      "[1] 13\n",
      "[1] 10\n"
     ]
    }
   ],
   "source": [
    "tr_nb_list<-sample(100, 100, replace = FALSE)\n",
    "\n",
    "for (i in 1:100){\n",
    "    for (j in 1:20){\n",
    "        tab_temp<-read.table(tab[[j]], header = TRUE)\n",
    "        tr<-tree_list[[tr_nb_list[i]]]\n",
    "        temp<-read.table(lst_files[[j]], sep =\"\\t\", header = TRUE)\n",
    "        temp_tabl<-cbind(tabl, temp)\n",
    "        temp_phy<-as.data.frame(cbind(tr$tip.label,tr$edge.length[tr$edge[,2] <= length(tr$tip.label)]))\n",
    "        temp_phy2<- temp_phy[! temp_phy[,1] %in% temp_tabl[,1],2]\n",
    "        temp_phy3<- temp_phy[! temp_phy[,1] %in% temp_tabl[,1],1]\n",
    "        temp_neonto<- as.data.frame(cbind(rep(0,length(temp_phy2)), ((nrow(temp_tabl)+1):(nrow(temp_tabl)+length(temp_phy2))), temp_phy2, rep(0,length(temp_phy2))))\n",
    "        colnames(temp_neonto)<-colnames(temp)\n",
    "        if(setequal(as.numeric(temp_neonto$ts), tab_temp[100:176,]$ts)){\n",
    "            temp_name<-str_split_fixed(lst_files[[j]], \"Species_combined/TS_TE//Occ_sp_Squali_\", 2)\n",
    "            temp_name1<-str_split_fixed(temp_name, \"_G_KEEP_BDS_se_est.txt\", 2)\n",
    "            print(as.numeric(temp_name1[2,1]))\n",
    "            data_fr<-cbind(1:176, c(data_table[,4],temp_phy3))\n",
    "            colnames(data_fr)<-c(\"Lineage_number\", \"Lineage_name\")\n",
    "            write.table(data_fr, paste(\"Species_combined/TS_TE_output/Taxonomic_equivalence/Taxonomic_eq\", temp_name1[2,1], \".tsv\", sep = \"\"), sep =\"\\t\", quote = FALSE, row.names = FALSE)\n",
    "        }\n",
    "    }\n",
    "}"
   ]
  }
 ],
 "metadata": {
  "kernelspec": {
   "display_name": "R",
   "language": "R",
   "name": "ir"
  },
  "language_info": {
   "codemirror_mode": "r",
   "file_extension": ".r",
   "mimetype": "text/x-r-source",
   "name": "R",
   "pygments_lexer": "r",
   "version": "4.3.3"
  }
 },
 "nbformat": 4,
 "nbformat_minor": 4
}
