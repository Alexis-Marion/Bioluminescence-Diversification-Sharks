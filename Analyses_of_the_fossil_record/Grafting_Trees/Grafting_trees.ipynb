{
 "cells": [
  {
   "cell_type": "markdown",
   "metadata": {},
   "source": [
    "# Grafting posterior tree distribution"
   ]
  },
  {
   "cell_type": "markdown",
   "metadata": {},
   "source": [
    "## Data preparation"
   ]
  },
  {
   "cell_type": "markdown",
   "metadata": {},
   "source": [
    "### Loading packages"
   ]
  },
  {
   "cell_type": "code",
   "execution_count": null,
   "metadata": {
    "scrolled": false
   },
   "outputs": [],
   "source": [
    "library(\"TreeTools\")\n",
    "library(\"phytools\")\n",
    "library(\"stringr\")\n",
    "library(\"dispRity\")"
   ]
  },
  {
   "cell_type": "markdown",
   "metadata": {},
   "source": [
    "### Loading data and useful functions"
   ]
  },
  {
   "cell_type": "code",
   "execution_count": null,
   "metadata": {},
   "outputs": [],
   "source": [
    "source(\"function_grafting.r\")"
   ]
  },
  {
   "cell_type": "code",
   "execution_count": null,
   "metadata": {},
   "outputs": [],
   "source": [
    "trees<-read.tree(\"../../raw_data/Squaliformes_posterior_distribution.tree\")"
   ]
  },
  {
   "cell_type": "code",
   "execution_count": null,
   "metadata": {},
   "outputs": [],
   "source": [
    "phy<-read.tree(\"../../raw_data/Squaliformes_extant.tree\")"
   ]
  },
  {
   "cell_type": "code",
   "execution_count": null,
   "metadata": {},
   "outputs": [],
   "source": [
    "tab<-read.table(\"../../raw_data/TS_TE_SP_replicated.tsv\", header = TRUE, sep =\"\\t\")"
   ]
  },
  {
   "cell_type": "code",
   "execution_count": null,
   "metadata": {
    "scrolled": false
   },
   "outputs": [],
   "source": [
    "table_trait<-read.table(\"../../raw_data/Trait_data_Squaliformes_Fossil.tsv\", header = TRUE, sep =\"\\t\")"
   ]
  },
  {
   "cell_type": "markdown",
   "metadata": {},
   "source": [
    "## Grafting 1,000 replicates for the consensus tree"
   ]
  },
  {
   "cell_type": "code",
   "execution_count": null,
   "metadata": {},
   "outputs": [],
   "source": [
    "multi_tree<-function(tree, fossil_data, taxonomy, output){\n",
    "phylo_list<-list()\n",
    "class(phylo_list)<-\"multiPhylo\"\n",
    "       for(i in 1:1000){\n",
    "           \n",
    "            temp_tree<-tree\n",
    "           \n",
    "            taxo_eoetmopterus_supracretaceus<-extract.clade(temp_tree, getMRCA(temp_tree, c(\"Etmopterus_sheikoi\", \"Aculeola_nigra\")))$tip.label\n",
    "            temp_tree<-tree_grafting_manual(temp_tree, fossil_data, \"Eoetmopterus_supracretaceus\", taxo_eoetmopterus_supracretaceus, 1)\n",
    "\n",
    "            taxo_isistius_trituratus<-c(\"Isistius_brasiliensis\")\n",
    "            temp_tree<-tree_grafting_manual(temp_tree, fossil_data, \"Isistius_trituratus\", taxo_isistius_trituratus, 1)\n",
    "\n",
    "            taxo_protocentrophorus_balticus<-extract.clade(temp_tree, getMRCA(temp_tree, c(\"Deania_calcea\", \"Centrophorus_squamosus\", \"Centrophorus_granulosus\")))$tip.label\n",
    "            temp_tree<-tree_grafting_manual(temp_tree, fossil_data, \"Protocentrophorus_balticus\", taxo_protocentrophorus_balticus, 1)\n",
    "\n",
    "            taxo_protosqualus_albertsi<-extract.clade(temp_tree, getMRCA(temp_tree, c(\"Squalus_acanthias\", \"Cirrhigaleus_barbifer\", \"Squalus_cubensis\")))$tip.label\n",
    "            temp_tree<-tree_grafting_manual(temp_tree, fossil_data, \"Protosqualus_albertsi\", taxo_protosqualus_albertsi, 1)\n",
    "\n",
    "            taxo_protosqualus_sigei<-extract.clade(temp_tree, getMRCA(temp_tree, c(\"Squalus_acanthias\", \"Cirrhigaleus_barbifer\", \"Squalus_cubensis\")))$tip.label\n",
    "            temp_tree<-tree_grafting_manual(temp_tree, fossil_data, \"Protosqualus_sigei\", taxo_protosqualus_sigei, 1)\n",
    "\n",
    "            taxo_squalus_minor<-extract.clade(temp_tree, getMRCA(temp_tree, c(\"Squalus_acanthias\", \"Cirrhigaleus_barbifer\", \"Squalus_cubensis\")))$tip.label\n",
    "            temp_tree<-tree_grafting_manual(temp_tree, fossil_data, \"Squalus_minor\", taxo_squalus_minor, 1)\n",
    "\n",
    "            taxo_trigonognathus_virginiae<-c(\"Trigonognathus_kabeyai\")\n",
    "            temp_tree<-tree_grafting_manual(temp_tree, fossil_data, \"Trigonognathus_virginiae\", taxo_trigonognathus_virginiae, 1)\n",
    "\n",
    "            taxo_eodalatias_crenulatus<-c(\"Dalatias_licha\")\n",
    "            temp_tree<-tree_grafting_manual(temp_tree, fossil_data, \"Eodalatias_crenulatus\", taxo_eodalatias_crenulatus, 1)\n",
    "\n",
    "            taxo_squalidalatias_savoiei<-extract.clade(temp_tree, getMRCA(temp_tree, c(\"Dalatias_licha\", \"Isistius_brasiliensis\")))$tip.label\n",
    "            temp_tree<-tree_grafting_manual(temp_tree, fossil_data, \"Squaliodalatias_savoiei\", taxo_squalidalatias_savoiei, 1)\n",
    "\n",
    "            taxo_proetmopterus_hemmooriensis<-extract.clade(temp_tree, getMRCA(temp_tree, c(\"Etmopterus_sheikoi\", \"Etmopterus_princeps\", \"Etmopterus_polli\")))$tip.label\n",
    "            temp_tree<-tree_grafting_manual(temp_tree, fossil_data, \"Proetmopterus_hemmooriensis\", taxo_proetmopterus_hemmooriensis, 1)\n",
    "\n",
    "            taxo_cretascymnus_westfalicus<-extract.clade(temp_tree, getMRCA(temp_tree, c(\"Somniosus_microcephalus\", \"Rhinoscymnus_rostratus\")))$tip.label\n",
    "            temp_tree<-tree_grafting_manual(temp_tree, fossil_data, \"Cretascymnus_westfalicus\", taxo_cretascymnus_westfalicus, 1)\n",
    "\n",
    "            taxo_cretascymnus_adonis<-extract.clade(temp_tree, getMRCA(temp_tree, c(\"Somniosus_microcephalus\", \"Rhinoscymnus_rostratus\")))$tip.label\n",
    "            temp_tree<-tree_grafting_manual(temp_tree, fossil_data, \"Cretascymnus_adonis\", taxo_cretascymnus_adonis, 1)\n",
    "            phylo_list[[i]]<-temp_tree\n",
    "       }\n",
    "    write.nexus(phylo_list, file = output)\n",
    "}"
   ]
  },
  {
   "cell_type": "markdown",
   "metadata": {},
   "source": [
    "## Saving the multi tree filem"
   ]
  },
  {
   "cell_type": "code",
   "execution_count": null,
   "metadata": {
    "scrolled": true
   },
   "outputs": [],
   "source": [
    "multi_tree(phy, tab, table_trait, \"../../raw_data/Multi_Squaliformes_fossil_consensus_distribution.tree\")"
   ]
  },
  {
   "cell_type": "markdown",
   "metadata": {},
   "source": [
    "## Grafting fossils on the posterior tree distribution"
   ]
  },
  {
   "cell_type": "code",
   "execution_count": null,
   "metadata": {},
   "outputs": [],
   "source": [
    "multi_tree_posterior<-function(tree, fossil_data, taxonomy, output){\n",
    "phylo_list<-list()\n",
    "class(phylo_list)<-\"multiPhylo\"\n",
    "       for(i in 1:100){\n",
    "           \n",
    "            temp_tree<-extract.clade(tree[[i]], getMRCA(tree[[i]], c(\"Squalus_acanthias\", \"Etmopterus_princeps\")))\n",
    "\n",
    "            taxo_eoetmopterus_supracretaceus<-extract.clade(temp_tree, getMRCA(temp_tree, c(\"Etmopterus_sheikoi\", \"Aculeola_nigra\")))$tip.label\n",
    "            temp_tree<-tree_grafting_manual(temp_tree, fossil_data, \"Eoetmopterus_supracretaceus\", taxo_eoetmopterus_supracretaceus, 1)\n",
    "\n",
    "            taxo_isistius_trituratus<-c(\"Isistius_brasiliensis\")\n",
    "            temp_tree<-tree_grafting_manual(temp_tree, fossil_data, \"Isistius_trituratus\", taxo_isistius_trituratus, 1)\n",
    "           \n",
    "            taxo_protocentrophorus_balticus<-extract.clade(temp_tree, getMRCA(temp_tree, c(\"Deania_calcea\", \"Centrophorus_squamosus\", \"Centrophorus_granulosus\")))$tip.label\n",
    "            temp_tree<-tree_grafting_manual(temp_tree, fossil_data, \"Protocentrophorus_balticus\", taxo_protocentrophorus_balticus, 1)\n",
    "            \n",
    "            taxo_protosqualus_albertsi<-extract.clade(temp_tree, getMRCA(temp_tree, c(\"Squalus_acanthias\", \"Cirrhigaleus_barbifer\", \"Squalus_cubensis\")))$tip.label\n",
    "            temp_tree<-tree_grafting_manual(temp_tree, fossil_data, \"Protosqualus_albertsi\", taxo_protosqualus_albertsi, 1)\n",
    "\n",
    "            taxo_protosqualus_sigei<-extract.clade(temp_tree, getMRCA(temp_tree, c(\"Squalus_acanthias\", \"Cirrhigaleus_barbifer\", \"Squalus_cubensis\")))$tip.label\n",
    "            temp_tree<-tree_grafting_manual(temp_tree, fossil_data, \"Protosqualus_sigei\", taxo_protosqualus_sigei, 1)\n",
    "\n",
    "            taxo_squalus_minor<-extract.clade(temp_tree, getMRCA(temp_tree, c(\"Squalus_acanthias\", \"Cirrhigaleus_barbifer\", \"Squalus_cubensis\")))$tip.label\n",
    "            temp_tree<-tree_grafting_manual(temp_tree, fossil_data, \"Squalus_minor\", taxo_squalus_minor, 1)\n",
    "\n",
    "            taxo_trigonognathus_virginiae<-c(\"Trigonognathus_kabeyai\")\n",
    "            temp_tree<-tree_grafting_manual(temp_tree, fossil_data, \"Trigonognathus_virginiae\", taxo_trigonognathus_virginiae, 1)\n",
    "\n",
    "            taxo_eodalatias_crenulatus<-c(\"Dalatias_licha\")\n",
    "            temp_tree<-tree_grafting_manual(temp_tree, fossil_data, \"Eodalatias_crenulatus\", taxo_eodalatias_crenulatus, 1)\n",
    "\n",
    "            taxo_squalidalatias_savoiei<-extract.clade(temp_tree, getMRCA(temp_tree, c(\"Dalatias_licha\", \"Isistius_brasiliensis\")))$tip.label\n",
    "            temp_tree<-tree_grafting_manual(temp_tree, fossil_data, \"Squaliodalatias_savoiei\", taxo_squalidalatias_savoiei, 1)\n",
    "\n",
    "            taxo_proetmopterus_hemmooriensis<-extract.clade(temp_tree, getMRCA(temp_tree, c(\"Etmopterus_sheikoi\", \"Etmopterus_princeps\", \"Etmopterus_polli\")))$tip.label\n",
    "            temp_tree<-tree_grafting_manual(temp_tree, fossil_data, \"Proetmopterus_hemmooriensis\", taxo_proetmopterus_hemmooriensis, 1)\n",
    "\n",
    "            taxo_cretascymnus_westfalicus<-extract.clade(temp_tree, getMRCA(temp_tree, c(\"Somniosus_microcephalus\", \"Rhinoscymnus_rostratus\")))$tip.label\n",
    "            temp_tree<-tree_grafting_manual(temp_tree, fossil_data, \"Cretascymnus_westfalicus\", taxo_cretascymnus_westfalicus, 1)\n",
    "\n",
    "            taxo_cretascymnus_adonis<-extract.clade(temp_tree, getMRCA(temp_tree, c(\"Somniosus_microcephalus\", \"Rhinoscymnus_rostratus\")))$tip.label\n",
    "            temp_tree<-tree_grafting_manual(temp_tree, fossil_data, \"Cretascymnus_adonis\", taxo_cretascymnus_adonis, 1)\n",
    "            phylo_list[[i]]<-temp_tree\n",
    "       }\n",
    "    write.tree(phylo_list, file = output)\n",
    "}"
   ]
  },
  {
   "cell_type": "markdown",
   "metadata": {},
   "source": [
    "## Saving the 100 grafted trees"
   ]
  },
  {
   "cell_type": "code",
   "execution_count": null,
   "metadata": {},
   "outputs": [],
   "source": [
    "multi_tree_posterior(trees, tab, table_trait, \"../../raw_data/Multi_Squaliformes_fossil_posterior_distribution.tree\")"
   ]
  }
 ],
 "metadata": {
  "kernelspec": {
   "display_name": "R",
   "language": "R",
   "name": "ir"
  },
  "language_info": {
   "codemirror_mode": "r",
   "file_extension": ".r",
   "mimetype": "text/x-r-source",
   "name": "R",
   "pygments_lexer": "r",
   "version": "4.3.3"
  }
 },
 "nbformat": 4,
 "nbformat_minor": 4
}
