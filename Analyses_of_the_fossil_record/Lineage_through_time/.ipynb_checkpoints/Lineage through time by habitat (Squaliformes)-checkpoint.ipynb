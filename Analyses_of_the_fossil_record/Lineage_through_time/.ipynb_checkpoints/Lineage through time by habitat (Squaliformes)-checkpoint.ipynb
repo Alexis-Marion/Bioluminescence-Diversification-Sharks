{
 "cells": [
  {
   "cell_type": "markdown",
   "metadata": {},
   "source": [
    "# Lineage through time by habitat (Squaliformes)"
   ]
  },
  {
   "cell_type": "markdown",
   "metadata": {},
   "source": [
    "## Data preparation"
   ]
  },
  {
   "cell_type": "markdown",
   "metadata": {},
   "source": [
    "### Loading packages"
   ]
  },
  {
   "cell_type": "code",
   "execution_count": 1,
   "metadata": {
    "scrolled": false
   },
   "outputs": [
    {
     "name": "stderr",
     "output_type": "stream",
     "text": [
      "\n",
      "Attachement du package : ‘dplyr’\n",
      "\n",
      "\n",
      "Les objets suivants sont masqués depuis ‘package:stats’:\n",
      "\n",
      "    filter, lag\n",
      "\n",
      "\n",
      "Les objets suivants sont masqués depuis ‘package:base’:\n",
      "\n",
      "    intersect, setdiff, setequal, union\n",
      "\n",
      "\n",
      "\n",
      "Attachement du package : ‘ape’\n",
      "\n",
      "\n",
      "L'objet suivant est masqué depuis ‘package:dplyr’:\n",
      "\n",
      "    where\n",
      "\n",
      "\n",
      "\u001b[90mtreeio v1.26.0 For help: https://yulab-smu.top/treedata-book/\n",
      "\n",
      "If you use the ggtree package suite in published research, please cite\n",
      "the appropriate paper(s):\n",
      "\n",
      "LG Wang, TTY Lam, S Xu, Z Dai, L Zhou, T Feng, P Guo, CW Dunn, BR\n",
      "Jones, T Bradley, H Zhu, Y Guan, Y Jiang, G Yu. treeio: an R package\n",
      "for phylogenetic tree input and output with richly annotated and\n",
      "associated data. Molecular Biology and Evolution. 2020, 37(2):599-603.\n",
      "doi: 10.1093/molbev/msz240\n",
      "\n",
      "S Xu, Z Dai, P Guo, X Fu, S Liu, L Zhou, W Tang, T Feng, M Chen, L\n",
      "Zhan, T Wu, E Hu, Y Jiang, X Bo, G Yu. ggtreeExtra: Compact\n",
      "visualization of richly annotated phylogenetic data. Molecular Biology\n",
      "and Evolution. 2021, 38(9):4039-4042. doi: 10.1093/molbev/msab166\n",
      "\n",
      "Guangchuang Yu. Using ggtree to visualize data on tree-like structures.\n",
      "Current Protocols in Bioinformatics. 2020, 69:e96. doi:10.1002/cpbi.96\n",
      "\u001b[39m\n",
      "\n"
     ]
    }
   ],
   "source": [
    "library(\"ggplot2\")\n",
    "library(\"dplyr\")\n",
    "library(\"deeptime\")\n",
    "library(\"ape\")\n",
    "library(\"treeio\")\n",
    "library(\"stringr\")\n",
    "library(\"cowplot\")\n",
    "library(\"ggstream\")"
   ]
  },
  {
   "cell_type": "markdown",
   "metadata": {},
   "source": [
    "### Sourcing useful functions"
   ]
  },
  {
   "cell_type": "code",
   "execution_count": 2,
   "metadata": {},
   "outputs": [],
   "source": [
    "source(\"utility_function_ltt_plot.r\")"
   ]
  },
  {
   "cell_type": "markdown",
   "metadata": {},
   "source": [
    "### Loading shared data"
   ]
  },
  {
   "cell_type": "code",
   "execution_count": 3,
   "metadata": {},
   "outputs": [],
   "source": [
    "phy<-read.tree(\"../../raw_data/Squaliformes_posterior_distribution.tree\")"
   ]
  },
  {
   "cell_type": "code",
   "execution_count": 4,
   "metadata": {},
   "outputs": [],
   "source": [
    "tab_habitat<-read.table(\"../../raw_data/Trait_data_Squaliformes_Fossil.tsv\", sep =\"\\t\", header = TRUE)"
   ]
  },
  {
   "cell_type": "markdown",
   "metadata": {},
   "source": [
    "## Genus"
   ]
  },
  {
   "cell_type": "markdown",
   "metadata": {},
   "source": [
    "### Loading genus data"
   ]
  },
  {
   "cell_type": "code",
   "execution_count": 5,
   "metadata": {},
   "outputs": [],
   "source": [
    "list_files<-list.files(\"../Results/Genus/5_MA_bins_EXT_EP/pyrate_mcmc_logs/\", full.names = TRUE)\n",
    "\n",
    "list_files<-list_files[grepl(\"se_est\",list_files)]\n",
    "\n",
    "tab_tax<-read.csv(\"../../raw_data/Data_taxo_genus.tsv\", sep =\"\\t\")\n",
    "\n",
    "tab_genus_habitat<-read.table(\"../../raw_data/Habitat_fossil_Genus.tsv\", sep =\"\\t\", header = TRUE)"
   ]
  },
  {
   "cell_type": "markdown",
   "metadata": {},
   "source": [
    "### Preparing dataframe with shared Ts/Te"
   ]
  },
  {
   "cell_type": "code",
   "execution_count": 6,
   "metadata": {},
   "outputs": [],
   "source": [
    "whole_tab<-tab_genus_habitat[tab_genus_habitat$Genus %in% tab_tax$Genus, ]\n",
    "it<-0\n",
    "for (file in list_files){\n",
    "    it <- it + 1\n",
    "    tab_ts_te<-read.table(file, sep =\"\\t\", header = TRUE)\n",
    "    tab_ts_te_reduced<-tab_ts_te[,-c(1,2)]\n",
    "    colnames(tab_ts_te_reduced)<-c(paste(c(\"ts_rep_\", it), collapse = \"\"), paste(c(\"te_rep_\", it), collapse = \"\"))\n",
    "    whole_tab<-cbind(whole_tab, tab_ts_te_reduced)\n",
    "}\n",
    "\n",
    "whole_tab<-whole_tab[!is.na(whole_tab$Habitat),]"
   ]
  },
  {
   "cell_type": "code",
   "execution_count": 7,
   "metadata": {},
   "outputs": [],
   "source": [
    "write.table(whole_tab, \"../../raw_data/whole_tab_genus_habitat_ts_te.tsv\", sep =\"\\t\")"
   ]
  },
  {
   "cell_type": "markdown",
   "metadata": {},
   "source": [
    "### Lineage lifespan by habitat"
   ]
  },
  {
   "cell_type": "code",
   "execution_count": 8,
   "metadata": {},
   "outputs": [],
   "source": [
    "tab_S <- whole_tab[whole_tab$Habitat == \"S\",]\n",
    "tab_D <- whole_tab[whole_tab$Habitat == \"D\",]\n",
    "tab_M <- whole_tab[whole_tab$Habitat == \"M\",]\n",
    "tab_all <- whole_tab\n",
    "\n",
    "trim_ts_D<-tab_D[,grepl(\"ts_rep_\", colnames(tab_D))]\n",
    "trim_te_D<-tab_D[,grepl(\"te_rep_\", colnames(tab_D))]\n",
    "\n",
    "trim_ts_S<-tab_S[,grepl(\"ts_rep_\", colnames(tab_S))]\n",
    "trim_te_S<-tab_S[,grepl(\"te_rep_\", colnames(tab_S))]\n",
    "\n",
    "trim_ts_M<-tab_M[,grepl(\"ts_rep_\", colnames(tab_M))]\n",
    "trim_te_M<-tab_M[,grepl(\"te_rep_\", colnames(tab_M))]\n",
    "\n",
    "trim_ts_all<-tab_all[,grepl(\"ts_rep_\", colnames(tab_all))]\n",
    "trim_te_all<-tab_all[,grepl(\"te_rep_\", colnames(tab_all))]\n",
    "\n",
    "tab<-c()\n",
    "for(i in seq(-145, 0, by = 0.5)){\n",
    "    div_vec<-c(i)\n",
    "    for (k in 1:ncol(trim_ts_D)){\n",
    "        div<-0\n",
    "        for (j in 1:nrow(trim_ts_D)){\n",
    "            if (is.in.interval(trim_te_D[j,k], trim_ts_D[j,k], i, i + 0.5)){\n",
    "                div <- div + 1      \n",
    "            }\n",
    "        }\n",
    "        div_vec<-c(div_vec, div)\n",
    "    }\n",
    "    tab<-rbind(tab, div_vec)\n",
    "}\n",
    "\n",
    "tab_D<-cbind(-rev(tab[,1]),\n",
    "          rev(apply(tab, 1, median)),\n",
    "          rev(apply(tab, 1, quantile_ts_te)[2,]),\n",
    "          rev(apply(tab, 1, quantile_ts_te)[1,]))\n",
    "\n",
    "tab_D<-as.data.frame(tab_D)\n",
    "rownames(tab_D)<-NULL\n",
    "colnames(tab_D)<-c(\"Age\",\"Diversity\", \"min_Diversity\", \"max_Diversity\")\n",
    "\n",
    "ltt_D_G<-tab_D\n",
    "\n",
    "tab<-c()\n",
    "for(i in seq(-145, 0, by = 0.5)){\n",
    "    div_vec<-c(i)\n",
    "    for (k in 1:ncol(trim_ts_S)){\n",
    "        div<-0\n",
    "        for (j in 1:nrow(trim_ts_S)){\n",
    "            if (is.in.interval(trim_te_S[j,k], trim_ts_S[j,k], i, i + 0.5)){\n",
    "                div <- div + 1      \n",
    "            }\n",
    "        }\n",
    "        div_vec<-c(div_vec, div)\n",
    "    }\n",
    "    tab<-rbind(tab, div_vec)\n",
    "}\n",
    "\n",
    "tab_S<-cbind(-rev(tab[,1]),\n",
    "          rev(apply(tab, 1, median)),\n",
    "          rev(apply(tab, 1, quantile_ts_te)[2,]),\n",
    "          rev(apply(tab, 1, quantile_ts_te)[1,]))\n",
    "\n",
    "tab_S<-as.data.frame(tab_S)\n",
    "rownames(tab_S)<-NULL\n",
    "colnames(tab_S)<-c(\"Age\",\"Diversity\", \"min_Diversity\", \"max_Diversity\")\n",
    "\n",
    "ltt_S_G<-tab_S\n",
    "\n",
    "tab<-c()\n",
    "for(i in seq(-145, 0, by = 0.5)){\n",
    "    div_vec<-c(i)\n",
    "    for (k in 1:ncol(trim_ts_M)){\n",
    "        div<-0\n",
    "        for (j in 1:nrow(trim_ts_M)){\n",
    "            if (is.in.interval(trim_te_M[j,k], trim_ts_M[j,k], i, i + 0.5)){\n",
    "                div <- div + 1      \n",
    "            }\n",
    "        }\n",
    "        div_vec<-c(div_vec, div)\n",
    "    }\n",
    "    tab<-rbind(tab, div_vec)\n",
    "}\n",
    "\n",
    "tab_M<-cbind(-rev(tab[,1]),\n",
    "          rev(apply(tab, 1, median)),\n",
    "          rev(apply(tab, 1, quantile_ts_te)[2,]),\n",
    "          rev(apply(tab, 1, quantile_ts_te)[1,]))\n",
    "\n",
    "tab_M<-as.data.frame(tab_M)\n",
    "\n",
    "rownames(tab_M)<-NULL\n",
    "colnames(tab_M)<-c(\"Age\",\"Diversity\", \"min_Diversity\", \"max_Diversity\")\n",
    "\n",
    "ltt_M_G<-tab_M\n",
    "\n",
    "tab<-c()\n",
    "for(i in seq(-145, 0, by = 0.5)){\n",
    "    div_vec<-c(i)\n",
    "    for (k in 1:ncol(trim_ts_all)){\n",
    "        div<-0\n",
    "        for (j in 1:nrow(trim_ts_all)){\n",
    "            if (is.in.interval(trim_te_all[j,k], trim_ts_all[j,k], i, i + 0.5)){\n",
    "                div <- div + 1      \n",
    "            }\n",
    "        }\n",
    "        div_vec<-c(div_vec, div)\n",
    "    }\n",
    "    tab<-rbind(tab, div_vec)\n",
    "}\n",
    "\n",
    "tab_all<-cbind(-rev(tab[,1]),\n",
    "          rev(apply(tab, 1, median)),\n",
    "          rev(apply(tab, 1, quantile_ts_te)[2,]),\n",
    "          rev(apply(tab, 1, quantile_ts_te)[1,]))\n",
    "\n",
    "tab_all<-as.data.frame(tab_all)\n",
    "rownames(tab_all)<-NULL\n",
    "colnames(tab_all)<-c(\"Age\",\"Diversity\", \"min_Diversity\", \"max_Diversity\")\n",
    "\n",
    "ltt_all_G<-tab_all"
   ]
  },
  {
   "cell_type": "markdown",
   "metadata": {},
   "source": [
    "## Species"
   ]
  },
  {
   "cell_type": "markdown",
   "metadata": {},
   "source": [
    "### Loading species data"
   ]
  },
  {
   "cell_type": "code",
   "execution_count": 9,
   "metadata": {},
   "outputs": [],
   "source": [
    "list_files <- list.files(\"../Results/Species/5_MA_bins_EXT_EP/pyrate_mcmc_logs/\", full.names = TRUE)\n",
    "\n",
    "list_files <- list_files[grepl(\"se_est\",list_files)]\n",
    "\n",
    "tab_tax_eco <- tab_habitat[,c(1:4,9)]\n",
    "\n",
    "tab_tax_eco$Species<-gsub(\" \", \"_\", tab_tax_eco$Species)\n",
    "\n",
    "tab_tax<-read.csv(\"../../raw_data/Data_taxo_sp.tsv\", sep =\"\\t\")\n",
    "\n",
    "tab_tax_eco <- tab_tax_eco[tab_tax_eco$Species %in% tab_tax$Species,]"
   ]
  },
  {
   "cell_type": "markdown",
   "metadata": {},
   "source": [
    "### Preparing dataframe with shared Ts/Te"
   ]
  },
  {
   "cell_type": "code",
   "execution_count": 10,
   "metadata": {},
   "outputs": [],
   "source": [
    "whole_tab<-tab_tax_eco\n",
    "it<-0\n",
    "for (file in list_files){\n",
    "    it<- it + 1\n",
    "    tab_ts_te<-read.table(file, sep =\"\\t\", header = TRUE)\n",
    "    tab_ts_te_reduced<-tab_ts_te[,-c(1,2)]\n",
    "    colnames(tab_ts_te_reduced)<-c(paste(c(\"ts_rep_\", it), collapse = \"\"), paste(c(\"te_rep_\", it), collapse = \"\"))\n",
    "    whole_tab<-cbind(whole_tab, tab_ts_te_reduced)\n",
    "}\n",
    "\n",
    "whole_tab<-whole_tab[!is.na(whole_tab$Habitat),]"
   ]
  },
  {
   "cell_type": "code",
   "execution_count": 11,
   "metadata": {},
   "outputs": [],
   "source": [
    "write.table(whole_tab, \"../../raw_data/whole_tab_species_habitat_ts_te.tsv\", sep =\"\\t\")"
   ]
  },
  {
   "cell_type": "markdown",
   "metadata": {},
   "source": [
    "### Lineage lifespan by habitat (Fossil only)"
   ]
  },
  {
   "cell_type": "code",
   "execution_count": 12,
   "metadata": {},
   "outputs": [],
   "source": [
    "tab_S<-whole_tab[whole_tab$Habitat == \"S\",]\n",
    "tab_D<-whole_tab[whole_tab$Habitat == \"D\",]\n",
    "tab_M<-whole_tab[whole_tab$Habitat == \"M\",]\n",
    "tab_all <- whole_tab\n",
    "\n",
    "trim_ts_D<-tab_D[,grepl(\"ts_rep_\", colnames(tab_D))]\n",
    "trim_te_D<-tab_D[,grepl(\"te_rep_\", colnames(tab_D))]\n",
    "\n",
    "trim_ts_S<-tab_S[,grepl(\"ts_rep_\", colnames(tab_S))]\n",
    "trim_te_S<-tab_S[,grepl(\"te_rep_\", colnames(tab_S))]\n",
    "\n",
    "trim_ts_M<-tab_M[,grepl(\"ts_rep_\", colnames(tab_M))]\n",
    "trim_te_M<-tab_M[,grepl(\"te_rep_\", colnames(tab_M))]\n",
    "\n",
    "trim_ts_all<-tab_all[,grepl(\"ts_rep_\", colnames(tab_all))]\n",
    "trim_te_all<-tab_all[,grepl(\"te_rep_\", colnames(tab_all))]\n",
    "\n",
    "\n",
    "tab<-c()\n",
    "for(i in seq(-145, 0, by = 0.5)){\n",
    "    div_vec<-c(i)\n",
    "    for (k in 1:ncol(trim_ts_D)){\n",
    "        div<-0\n",
    "        for (j in 1:nrow(trim_ts_D)){\n",
    "            if (is.in.interval(trim_te_D[j,k], trim_ts_D[j,k], i, i + 0.5)){\n",
    "                div <- div + 1      \n",
    "            }\n",
    "        }\n",
    "        div_vec<-c(div_vec, div)\n",
    "    }\n",
    "    tab<-rbind(tab, div_vec)\n",
    "}\n",
    "\n",
    "tab_D<-cbind(-rev(tab[,1]),\n",
    "          rev(apply(tab, 1, median)),\n",
    "          rev(apply(tab, 1, quantile_ts_te)[2,]),\n",
    "          rev(apply(tab, 1, quantile_ts_te)[1,]))\n",
    "\n",
    "tab_D<-as.data.frame(tab_D)\n",
    "rownames(tab_D)<-NULL\n",
    "colnames(tab_D)<-c(\"Age\",\"Diversity\", \"min_Diversity\", \"max_Diversity\")\n",
    "\n",
    "ltt_D<-tab_D\n",
    "\n",
    "tab<-c()\n",
    "for(i in seq(-145, 0, by = 0.5)){\n",
    "    div_vec<-c(i)\n",
    "    for (k in 1:ncol(trim_ts_S)){\n",
    "        div<-0\n",
    "        for (j in 1:nrow(trim_ts_S)){\n",
    "            if (is.in.interval(trim_te_S[j,k], trim_ts_S[j,k], i, i + 0.5)){\n",
    "                div <- div + 1      \n",
    "            }\n",
    "        }\n",
    "        div_vec<-c(div_vec, div)\n",
    "    }\n",
    "    tab<-rbind(tab, div_vec)\n",
    "}\n",
    "\n",
    "tab_S<-cbind(-rev(tab[,1]),\n",
    "          rev(apply(tab, 1, median)),\n",
    "          rev(apply(tab, 1, quantile_ts_te)[2,]),\n",
    "          rev(apply(tab, 1, quantile_ts_te)[1,]))\n",
    "\n",
    "tab_S<-as.data.frame(tab_S)\n",
    "rownames(tab_S)<-NULL\n",
    "colnames(tab_S)<-c(\"Age\",\"Diversity\", \"min_Diversity\", \"max_Diversity\")\n",
    "\n",
    "ltt_S<-tab_S\n",
    "\n",
    "tab<-c()\n",
    "for(i in seq(-145, 0, by = 0.5)){\n",
    "    div_vec<-c(i)\n",
    "    for (k in 1:ncol(trim_ts_M)){\n",
    "        div<-0\n",
    "        for (j in 1:nrow(trim_ts_M)){\n",
    "            if (is.in.interval(trim_te_M[j,k], trim_ts_M[j,k], i, i + 0.5)){\n",
    "                div <- div + 1      \n",
    "            }\n",
    "        }\n",
    "        div_vec<-c(div_vec, div)\n",
    "    }\n",
    "    tab<-rbind(tab, div_vec)\n",
    "}\n",
    "\n",
    "tab_M<-cbind(-rev(tab[,1]),\n",
    "          rev(apply(tab, 1, median)),\n",
    "          rev(apply(tab, 1, quantile_ts_te)[2,]),\n",
    "          rev(apply(tab, 1, quantile_ts_te)[1,]))\n",
    "\n",
    "tab_M<-as.data.frame(tab_M)\n",
    "rownames(tab_M)<-NULL\n",
    "colnames(tab_M)<-c(\"Age\",\"Diversity\", \"min_Diversity\", \"max_Diversity\")\n",
    "\n",
    "ltt_M<-tab_M\n",
    "\n",
    "tab<-c()\n",
    "for(i in seq(-145, 0, by = 0.5)){\n",
    "    div_vec<-c(i)\n",
    "    for (k in 1:ncol(trim_ts_all)){\n",
    "        div<-0\n",
    "        for (j in 1:nrow(trim_ts_all)){\n",
    "            if (is.in.interval(trim_te_all[j,k], trim_ts_all[j,k], i, i + 0.5)){\n",
    "                div <- div + 1      \n",
    "            }\n",
    "        }\n",
    "        div_vec<-c(div_vec, div)\n",
    "    }\n",
    "    tab<-rbind(tab, div_vec)\n",
    "}\n",
    "\n",
    "tab_all<-cbind(-rev(tab[,1]),\n",
    "          rev(apply(tab, 1, median)),\n",
    "          rev(apply(tab, 1, quantile_ts_te)[2,]),\n",
    "          rev(apply(tab, 1, quantile_ts_te)[1,]))\n",
    "\n",
    "tab_all<-as.data.frame(tab_all)\n",
    "rownames(tab_all)<-NULL\n",
    "colnames(tab_all)<-c(\"Age\",\"Diversity\", \"min_Diversity\", \"max_Diversity\")\n",
    "\n",
    "ltt_all<-tab_all"
   ]
  },
  {
   "cell_type": "code",
   "execution_count": 13,
   "metadata": {},
   "outputs": [],
   "source": [
    "tab_habitat<-read.table(\"../../raw_data/Trait_data_Squaliformes_Fossil.tsv\", sep =\"\\t\", header =TRUE)\n",
    "\n",
    "list_files<-list.files(\"../Results/Species_combined/TS_TE_output/output_ltt/\", full.names = TRUE)\n",
    "\n",
    "list_files<-list_files[grepl(\"se_est\",list_files)]\n",
    "\n",
    "list_files_tax<-list.files(\"../Results/Species_combined/TS_TE_output/Taxonomic_equivalence/\", full.names = TRUE)\n",
    "\n",
    "colnames(tab_ts_te_reduced)<-c(paste(c(\"ts_rep_\", it), collapse = \"\"), paste(c(\"te_rep_\", it), collapse = \"\"))"
   ]
  },
  {
   "cell_type": "code",
   "execution_count": 14,
   "metadata": {
    "scrolled": true
   },
   "outputs": [],
   "source": [
    "whole_tab<-c()\n",
    "for(i in 1:20){\n",
    "    temp_tab_tax <- read.table(list_files_tax[i], header = TRUE, sep = \"\\t\")\n",
    "    temp_tab_ts_te <- read.table(list_files[i], header = TRUE, sep = \"\\t\")\n",
    "    temp_tab <- cbind(temp_tab_tax, temp_tab_ts_te)\n",
    "    temp_tab <- temp_tab[, -c(1,3,4)]\n",
    "    colnames(temp_tab)<-c(\"Species\", paste(c(\"ts_rep_\", i), collapse = \"\"), paste(c(\"te_rep_\", i), collapse = \"\"))\n",
    "    if(length(whole_tab) == 0){\n",
    "        whole_tab <- temp_tab\n",
    "    }\n",
    "    else{\n",
    "        whole_tab <- merge(whole_tab, temp_tab, by = \"Species\")\n",
    "    }\n",
    "}"
   ]
  },
  {
   "cell_type": "code",
   "execution_count": 15,
   "metadata": {},
   "outputs": [],
   "source": [
    "ecological_cat<-c()\n",
    "for( i in 1:nrow(tab_habitat)){\n",
    "    temp_sp_name <- gsub(\" \", \"_\", tab_habitat$Species[i])\n",
    "    if( temp_sp_name %in% whole_tab$Species){\n",
    "        temp_vec<-c(tab_habitat$Order[i], tab_habitat$Family[i], tab_habitat$Genus[i], temp_sp_name, tab_habitat$Habitat[i])\n",
    "        ecological_cat <- rbind(ecological_cat, temp_vec)\n",
    "    }\n",
    "}\n",
    "ecological_cat <- as.data.frame(ecological_cat)\n",
    "colnames(ecological_cat) <- c(\"Order\", \"Family\", \"Genus\", \"Species\", \"Habitat\")"
   ]
  },
  {
   "cell_type": "markdown",
   "metadata": {},
   "source": [
    "### Lineage lifespan by habitat (Combined)"
   ]
  },
  {
   "cell_type": "code",
   "execution_count": 16,
   "metadata": {},
   "outputs": [],
   "source": [
    "data_combined <- merge(ecological_cat, whole_tab, by = \"Species\")\n",
    "data_combined <- cbind(data_combined[c(2,3,4)], data_combined[c(1)], data_combined[-c(1,2,3,4)])\n",
    "data_combined <- data_combined[!is.na(data_combined$Habitat),]\n",
    "\n",
    "tab_S<-data_combined[data_combined$Habitat == \"S\",]\n",
    "tab_D<-data_combined[data_combined$Habitat == \"D\",]\n",
    "tab_M<-data_combined[data_combined$Habitat == \"M\",]\n",
    "tab_all<-data_combined\n",
    "\n",
    "trim_ts_D<-tab_D[,grepl(\"ts_rep_\", colnames(tab_D))]\n",
    "trim_te_D<-tab_D[,grepl(\"te_rep_\", colnames(tab_D))]\n",
    "trim_ts_D<-apply(trim_ts_D, 2, as.numeric)\n",
    "trim_te_D<-apply(trim_te_D, 2, as.numeric)\n",
    "\n",
    "trim_ts_S<-tab_S[,grepl(\"ts_rep_\", colnames(tab_S))]\n",
    "trim_te_S<-tab_S[,grepl(\"te_rep_\", colnames(tab_S))]\n",
    "trim_ts_S<-apply(trim_ts_S, 2, as.numeric)\n",
    "trim_te_S<-apply(trim_te_S, 2, as.numeric)\n",
    "\n",
    "trim_ts_M<-tab_M[,grepl(\"ts_rep_\", colnames(tab_M))]\n",
    "trim_te_M<-tab_M[,grepl(\"te_rep_\", colnames(tab_M))]\n",
    "trim_ts_M<-apply(trim_ts_M, 2, as.numeric)\n",
    "trim_te_M<-apply(trim_te_M, 2, as.numeric)\n",
    "\n",
    "trim_ts_all<-tab_all[,grepl(\"ts_rep_\", colnames(tab_all))]\n",
    "trim_te_all<-tab_all[,grepl(\"te_rep_\", colnames(tab_all))]\n",
    "trim_ts_all<-apply(trim_ts_all, 2, as.numeric)\n",
    "trim_te_all<-apply(trim_te_all, 2, as.numeric)\n",
    "\n",
    "tab<-c()\n",
    "for(i in seq(-145, 0, by = 0.5)){\n",
    "    div_vec<-c(i)\n",
    "    for (k in 1:ncol(trim_ts_D)){\n",
    "        div<-0\n",
    "        for (j in 1:nrow(trim_ts_D)){\n",
    "            if (is.in.interval(trim_te_D[j,k], trim_ts_D[j,k], i, i + 0.5)){\n",
    "                div <- div + 1      \n",
    "            }\n",
    "        }\n",
    "        div_vec<-c(div_vec, div)\n",
    "    }\n",
    "    tab<-rbind(tab, div_vec)\n",
    "}\n",
    "\n",
    "tab_D<-cbind(-rev(tab[,1]),\n",
    "          rev(apply(tab, 1, median)),\n",
    "          rev(apply(tab, 1, quantile_ts_te)[2,]),\n",
    "          rev(apply(tab, 1, quantile_ts_te)[1,]))\n",
    "\n",
    "tab_D<-as.data.frame(tab_D)\n",
    "rownames(tab_D)<-NULL\n",
    "colnames(tab_D)<-c(\"Age\",\"Diversity\", \"min_Diversity\", \"max_Diversity\")\n",
    "\n",
    "ltt_combined_D<-tab_D\n",
    "\n",
    "tab<-c()\n",
    "for(i in seq(-145, 0, by = 0.5)){\n",
    "    div_vec<-c(i)\n",
    "    for (k in 1:ncol(trim_ts_S)){\n",
    "        div<-0\n",
    "        for (j in 1:nrow(trim_ts_S)){\n",
    "            if (is.in.interval(trim_te_S[j,k], trim_ts_S[j,k], i, i + 0.5)){\n",
    "                div <- div + 1      \n",
    "            }\n",
    "        }\n",
    "        div_vec<-c(div_vec, div)\n",
    "    }\n",
    "    tab<-rbind(tab, div_vec)\n",
    "}\n",
    "\n",
    "tab_S<-cbind(-rev(tab[,1]),\n",
    "          rev(apply(tab, 1, median)),\n",
    "          rev(apply(tab, 1, quantile_ts_te)[2,]),\n",
    "          rev(apply(tab, 1, quantile_ts_te)[1,]))\n",
    "\n",
    "tab_S<-as.data.frame(tab_S)\n",
    "rownames(tab_S)<-NULL\n",
    "colnames(tab_S)<-c(\"Age\",\"Diversity\", \"min_Diversity\", \"max_Diversity\")\n",
    "\n",
    "ltt_combined_S<-tab_S\n",
    "\n",
    "tab<-c()\n",
    "for(i in seq(-145, 0, by = 0.5)){\n",
    "    div_vec<-c(i)\n",
    "    for (k in 1:ncol(trim_ts_M)){\n",
    "        div<-0\n",
    "        for (j in 1:nrow(trim_ts_M)){\n",
    "            if (is.in.interval(trim_te_M[j,k], trim_ts_M[j,k], i, i + 0.5)){\n",
    "                div <- div + 1      \n",
    "            }\n",
    "        }\n",
    "        div_vec<-c(div_vec, div)\n",
    "    }\n",
    "    tab<-rbind(tab, div_vec)\n",
    "}\n",
    "\n",
    "tab_M<-cbind(-rev(tab[,1]),\n",
    "          rev(apply(tab, 1, median)),\n",
    "          rev(apply(tab, 1, quantile_ts_te)[2,]),\n",
    "          rev(apply(tab, 1, quantile_ts_te)[1,]))\n",
    "\n",
    "tab_M<-as.data.frame(tab_M)\n",
    "rownames(tab_M)<-NULL\n",
    "colnames(tab_M)<-c(\"Age\",\"Diversity\", \"min_Diversity\", \"max_Diversity\")\n",
    "\n",
    "ltt_combined_M<-tab_M\n",
    "\n",
    "tab<-c()\n",
    "for(i in seq(-145, 0, by = 0.5)){\n",
    "    div_vec<-c(i)\n",
    "    for (k in 1:ncol(trim_ts_all)){\n",
    "        div<-0\n",
    "        for (j in 1:nrow(trim_ts_all)){\n",
    "            if (is.in.interval(trim_te_all[j,k], trim_ts_all[j,k], i, i + 0.5)){\n",
    "                div <- div + 1      \n",
    "            }\n",
    "        }\n",
    "        div_vec<-c(div_vec, div)\n",
    "    }\n",
    "    tab<-rbind(tab, div_vec)\n",
    "}\n",
    "\n",
    "tab_all<-cbind(-rev(tab[,1]),\n",
    "          rev(apply(tab, 1, median)),\n",
    "          rev(apply(tab, 1, quantile_ts_te)[2,]),\n",
    "          rev(apply(tab, 1, quantile_ts_te)[1,]))\n",
    "\n",
    "tab_all<-as.data.frame(tab_all)\n",
    "rownames(tab_all)<-NULL\n",
    "colnames(tab_all)<-c(\"Age\",\"Diversity\", \"min_Diversity\", \"max_Diversity\")\n",
    "\n",
    "ltt_combined_all<-tab_all"
   ]
  },
  {
   "cell_type": "markdown",
   "metadata": {},
   "source": [
    "### Saving lineages through time raw data"
   ]
  },
  {
   "cell_type": "code",
   "execution_count": 17,
   "metadata": {},
   "outputs": [],
   "source": [
    "write.table(ltt_all_G, \"ltt_gn.tsv\", sep =\"\\t\", quote = FALSE, row.names = FALSE, col.names = TRUE)\n",
    "write.table(ltt_all, \"ltt_sp.tsv\", sep =\"\\t\", quote = FALSE, row.names = FALSE, col.names = TRUE)\n",
    "write.table(ltt_combined_all, \"ltt_sp_combined.tsv\", sep =\"\\t\", quote = FALSE, row.names = FALSE, col.names = TRUE)"
   ]
  },
  {
   "cell_type": "code",
   "execution_count": 18,
   "metadata": {
    "scrolled": true
   },
   "outputs": [],
   "source": [
    "tab <- cbind((ltt_D_G/ltt_all_G)[,2], (ltt_D/ltt_all)[,2], (ltt_combined_D/ltt_combined_all)[,2])"
   ]
  },
  {
   "cell_type": "code",
   "execution_count": 19,
   "metadata": {},
   "outputs": [],
   "source": [
    "write.table(tab, \"data_prop.tsv\", quote = FALSE, row.names = FALSE, sep = \"\\t\")"
   ]
  },
  {
   "cell_type": "markdown",
   "metadata": {},
   "source": [
    "### Preparing data for plotting"
   ]
  },
  {
   "cell_type": "code",
   "execution_count": 20,
   "metadata": {},
   "outputs": [],
   "source": [
    "data_1<-data_maker(ltt_D, ltt_S, ltt_M)\n",
    "data_1$Time_bin<- (-data_1$Time_bin)\n",
    "data_2<-data_maker(ltt_combined_D, ltt_combined_S, ltt_combined_M)\n",
    "data_2$Time_bin<- (-data_2$Time_bin)\n",
    "data_3<-data_maker(ltt_D_G, ltt_S_G, ltt_M_G)\n",
    "data_3$Time_bin<- (-data_3$Time_bin)"
   ]
  },
  {
   "cell_type": "markdown",
   "metadata": {},
   "source": [
    "## Plot 1 Stacked barchart "
   ]
  },
  {
   "cell_type": "markdown",
   "metadata": {},
   "source": [
    "### Species"
   ]
  },
  {
   "cell_type": "code",
   "execution_count": 21,
   "metadata": {},
   "outputs": [],
   "source": [
    "b1<-ggplot(data_1, aes(fill=Habitat, y=Sample, x=Time_bin)) + \n",
    "    geom_bar(position=\"fill\", stat=\"identity\", width = 5.1) + \n",
    "scale_fill_manual(\"legend\", values = c(\"D\" = \"#5E4fA2\", \"S\" = \"#74BDCA\", \"M\" = \"#3A8B9B\")) +\n",
    "  labs(title = \"Habitat occupation through time\",\n",
    "       subtitle = \"Species\",\n",
    "       x = \"Year\",\n",
    "       y = \"Proportion\", \n",
    "       fill = \"Habitat\")"
   ]
  },
  {
   "cell_type": "markdown",
   "metadata": {},
   "source": [
    "### Species combined"
   ]
  },
  {
   "cell_type": "code",
   "execution_count": 22,
   "metadata": {},
   "outputs": [],
   "source": [
    "b2<-ggplot(data_2, aes(fill=Habitat, y=Sample, x=Time_bin)) + \n",
    "    geom_bar(position=\"fill\", stat=\"identity\", width = 5.1) + \n",
    "scale_fill_manual(\"legend\", values = c(\"D\" = \"#5E4fA2\", \"S\" = \"#74BDCA\", \"M\" = \"#3A8B9B\")) +\n",
    "  labs(title = \"Habitat occupation through time\",\n",
    "       subtitle = \"Species combined\",\n",
    "       x = \"Year\",\n",
    "       y = \"Proportion\", \n",
    "       fill = \"Habitat\")"
   ]
  },
  {
   "cell_type": "markdown",
   "metadata": {},
   "source": [
    "### Genus"
   ]
  },
  {
   "cell_type": "code",
   "execution_count": 23,
   "metadata": {
    "scrolled": true
   },
   "outputs": [],
   "source": [
    "b3<-ggplot(data_3, aes(fill=Habitat, y=Sample, x=Time_bin)) + \n",
    "    geom_bar(position=\"fill\", stat=\"identity\", width = 5.1) + \n",
    "scale_fill_manual(\"legend\", values = c(\"D\" = \"#5E4fA2\", \"S\" = \"#74BDCA\", \"M\" = \"#3A8B9B\")) +\n",
    "  labs(title = \"Habitat occupation through time\",\n",
    "       subtitle = \"Genus\",\n",
    "       x = \"Year\",\n",
    "       y = \"Proportion\", \n",
    "       fill = \"Habitat\")"
   ]
  },
  {
   "cell_type": "markdown",
   "metadata": {},
   "source": [
    "## Plot 2 Stacked stream charts "
   ]
  },
  {
   "cell_type": "markdown",
   "metadata": {},
   "source": [
    "### Species"
   ]
  },
  {
   "cell_type": "code",
   "execution_count": 24,
   "metadata": {
    "scrolled": false
   },
   "outputs": [],
   "source": [
    "p1<-ggplot(data_1, aes(x = Time_bin,\n",
    "                     y = Sample, \n",
    "                     fill = Habitat)) +\n",
    "  geom_stream(type=\"ridge\", n_grid = 100000, true_range = c(\"both\"), extra_span = 0) +\n",
    "  labs(title = \"Habitat occupation through time\",\n",
    "       subtitle = \"Species\",\n",
    "       x = \"Year\",\n",
    "       y = \"Diversity (nb. lineages)\", \n",
    "       fill = \"Habitat\") + \n",
    "scale_fill_manual(\"Habitat\", values = c(\"D\" = \"#5E4fA2\", \"S\" = \"#74BDCA\", \"M\" = \"#3A8B9B\")) + \n",
    "  theme_minimal() "
   ]
  },
  {
   "cell_type": "markdown",
   "metadata": {},
   "source": [
    "### Species combined"
   ]
  },
  {
   "cell_type": "code",
   "execution_count": 25,
   "metadata": {},
   "outputs": [],
   "source": [
    "p3<-ggplot(data_2, aes(x = Time_bin,\n",
    "                     y = Sample, \n",
    "                     fill = Habitat)) +\n",
    "  geom_stream(type=\"ridge\", n_grid = 100000, true_range = c(\"both\"), extra_span = 0) +\n",
    "  labs(title = \"Habitat occupation through time\",\n",
    "       subtitle = \"Species combined\",\n",
    "       x = \"Year\",\n",
    "       y = \"Diversity (nb. lineages)\", \n",
    "       fill = \"Habitat\") + \n",
    "scale_fill_manual(\"Habitat\", values = c(\"D\" = \"#5E4fA2\", \"S\" = \"#74BDCA\", \"M\" = \"#3A8B9B\")) + \n",
    "  theme_minimal() "
   ]
  },
  {
   "cell_type": "markdown",
   "metadata": {},
   "source": [
    "### Genus"
   ]
  },
  {
   "cell_type": "code",
   "execution_count": 26,
   "metadata": {},
   "outputs": [],
   "source": [
    "p5<-ggplot(data_3, aes(x = Time_bin,\n",
    "                     y = Sample, \n",
    "                     fill = Habitat)) +\n",
    "  geom_stream(type=\"ridge\", n_grid = 100000, true_range = c(\"both\"), extra_span = 0) +\n",
    "  labs(title = \"Habitat occupation through time\",\n",
    "       subtitle = \"Genus\",\n",
    "       x = \"Year\",\n",
    "       y = \"Diversity (nb. lineages)\", \n",
    "       fill = \"Habitat\") + \n",
    "scale_fill_manual(\"Habitat\", values = c(\"D\" = \"#5E4fA2\", \"S\" = \"#74BDCA\", \"M\" = \"#3A8B9B\")) + \n",
    "  theme_minimal() "
   ]
  },
  {
   "cell_type": "markdown",
   "metadata": {},
   "source": [
    "## Plot 3 Stacked stream charts (proportion)"
   ]
  },
  {
   "cell_type": "markdown",
   "metadata": {},
   "source": [
    "### Species"
   ]
  },
  {
   "cell_type": "code",
   "execution_count": 27,
   "metadata": {},
   "outputs": [],
   "source": [
    "p2<-ggplot(data_1, aes(x = Time_bin,\n",
    "                     y = Sample, \n",
    "                     fill = Habitat)) +\n",
    "  geom_stream(type=\"proportional\", n_grid = 100000, true_range = c(\"both\"), extra_span = 0) +\n",
    "  labs(title = \"Habitat occupation through time\",\n",
    "       subtitle = \"Species\",\n",
    "       x = \"Year\",\n",
    "       y = \"Diversity (nb. lineages)\", \n",
    "       fill = \"Habitat\") + \n",
    "scale_fill_manual(\"Habitat\", values = c(\"D\" = \"#5E4fA2\", \"S\" = \"#74BDCA\", \"M\" = \"#3A8B9B\")) + \n",
    "  theme_minimal() "
   ]
  },
  {
   "cell_type": "markdown",
   "metadata": {},
   "source": [
    "### Species combined"
   ]
  },
  {
   "cell_type": "code",
   "execution_count": 28,
   "metadata": {},
   "outputs": [],
   "source": [
    "p4<-ggplot(data_2, aes(x = Time_bin,\n",
    "                     y = Sample, \n",
    "                     fill = Habitat)) +\n",
    "  geom_stream(type=\"proportional\", n_grid = 100000, true_range = c(\"both\"), extra_span = 0) +\n",
    "  labs(title = \"Habitat occupation through time\",\n",
    "       subtitle = \"Species combined\",\n",
    "       x = \"Year\",\n",
    "       y = \"Diversity (nb. lineages)\", \n",
    "       fill = \"Habitat\") + \n",
    "scale_fill_manual(\"Habitat\", values = c(\"D\" = \"#5E4fA2\", \"S\" = \"#74BDCA\", \"M\" = \"#3A8B9B\")) + \n",
    "  theme_minimal() "
   ]
  },
  {
   "cell_type": "markdown",
   "metadata": {},
   "source": [
    "### Genus"
   ]
  },
  {
   "cell_type": "code",
   "execution_count": 29,
   "metadata": {},
   "outputs": [],
   "source": [
    "p6<-ggplot(data_3, aes(x = Time_bin,\n",
    "                     y = Sample, \n",
    "                     fill = Habitat)) +\n",
    "  geom_stream(type=\"proportional\", n_grid = 100000, true_range = c(\"both\"), extra_span = 0) +\n",
    "  labs(title = \"Habitat occupation through time\",\n",
    "       subtitle = \"Genus\",\n",
    "       x = \"Year\",\n",
    "       y = \"Diversity (nb. lineages)\", \n",
    "       fill = \"Habitat\") + \n",
    "scale_fill_manual(\"Habitat\", values = c(\"D\" = \"#5E4fA2\", \"S\" = \"#74BDCA\", \"M\" = \"#3A8B9B\")) + \n",
    "  theme_minimal() "
   ]
  },
  {
   "cell_type": "markdown",
   "metadata": {},
   "source": [
    "## Plotting all ltt in one frame"
   ]
  },
  {
   "cell_type": "code",
   "execution_count": 30,
   "metadata": {},
   "outputs": [
    {
     "name": "stderr",
     "output_type": "stream",
     "text": [
      "Warning message:\n",
      "“\u001b[1m\u001b[22m`position_stack()` requires non-overlapping \u001b[32mx\u001b[39m intervals.”\n",
      "Warning message:\n",
      "“\u001b[1m\u001b[22mRemoved 198 rows containing missing values or values outside the scale range\n",
      "(`geom_bar()`).”\n",
      "Warning message:\n",
      "“\u001b[1m\u001b[22m`position_stack()` requires non-overlapping \u001b[32mx\u001b[39m intervals.”\n",
      "Warning message:\n",
      "“\u001b[1m\u001b[22mRemoved 198 rows containing missing values or values outside the scale range\n",
      "(`geom_bar()`).”\n",
      "Warning message:\n",
      "“\u001b[1m\u001b[22m`position_stack()` requires non-overlapping \u001b[32mx\u001b[39m intervals.”\n",
      "Warning message:\n",
      "“\u001b[1m\u001b[22mRemoved 84 rows containing missing values or values outside the scale range\n",
      "(`geom_bar()`).”\n"
     ]
    },
    {
     "data": {
      "text/html": [
       "<strong>png:</strong> 2"
      ],
      "text/latex": [
       "\\textbf{png:} 2"
      ],
      "text/markdown": [
       "**png:** 2"
      ],
      "text/plain": [
       "png \n",
       "  2 "
      ]
     },
     "metadata": {},
     "output_type": "display_data"
    }
   ],
   "source": [
    "pdf(\"all_habitat_ltt.pdf\", width = 30, height = 10)\n",
    "    plot_grid(b1, p1, p2, b2, p3, p4, b3, p5, p6, ncol = 3, rel_widths = c(1/3, 1/3, 1/3))\n",
    "dev.off()"
   ]
  }
 ],
 "metadata": {
  "kernelspec": {
   "display_name": "R",
   "language": "R",
   "name": "ir"
  },
  "language_info": {
   "codemirror_mode": "r",
   "file_extension": ".r",
   "mimetype": "text/x-r-source",
   "name": "R",
   "pygments_lexer": "r",
   "version": "4.3.3"
  }
 },
 "nbformat": 4,
 "nbformat_minor": 4
}
