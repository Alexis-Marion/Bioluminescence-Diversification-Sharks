{
 "cells": [
  {
   "cell_type": "markdown",
   "metadata": {},
   "source": [
    "# Combining Ts Te, with molecular phylogenies"
   ]
  },
  {
   "cell_type": "markdown",
   "metadata": {},
   "source": [
    "## Loading packages"
   ]
  },
  {
   "cell_type": "code",
   "execution_count": null,
   "metadata": {},
   "outputs": [],
   "source": [
    "library(\"ape\")"
   ]
  },
  {
   "cell_type": "markdown",
   "metadata": {},
   "source": [
    "## Loading data"
   ]
  },
  {
   "cell_type": "code",
   "execution_count": null,
   "metadata": {},
   "outputs": [],
   "source": [
    "tree_list<-read.tree(\"../../raw_data/Squaliformes_posterior_distribution.tree\")"
   ]
  },
  {
   "cell_type": "code",
   "execution_count": null,
   "metadata": {},
   "outputs": [],
   "source": [
    "tabl<-read.table(\"Species_combined/Occ_sp_Squali_TaxonList.txt\", sep =\"\\t\", header = TRUE)"
   ]
  },
  {
   "cell_type": "code",
   "execution_count": null,
   "metadata": {},
   "outputs": [],
   "source": [
    "lst_files<-list.files(\"Species_combined/TS_TE/\", full.names = TRUE)"
   ]
  },
  {
   "cell_type": "markdown",
   "metadata": {},
   "source": [
    "## Combining data"
   ]
  },
  {
   "cell_type": "code",
   "execution_count": null,
   "metadata": {},
   "outputs": [],
   "source": [
    "tr_nb_list<-sample(100, 20, replace = FALSE)\n",
    "\n",
    "for (i in 1:20){\n",
    "    tr<-tree_list[[tr_nb_list[i]]]\n",
    "    temp<-read.table(lst_files[[i]], sep =\"\\t\", header = TRUE)\n",
    "    temp_tabl<-cbind(tabl, temp)\n",
    "    temp_phy<-as.data.frame(cbind(tr$tip.label,tr$edge.length[tr$edge[,2] <= length(tr$tip.label)]))\n",
    "    temp_phy2<- temp_phy[! temp_phy[,1] %in% temp_tabl[,1],2]\n",
    "    temp_neonto<- as.data.frame(cbind(rep(0,length(temp_phy2)), ((nrow(temp_tabl)+1):(nrow(temp_tabl)+length(temp_phy2))), temp_phy2, rep(0,length(temp_phy2))))\n",
    "    colnames(temp_neonto)<-colnames(temp)\n",
    "    write.table(rbind(temp, temp_neonto), paste(\"Species_combined/TS_TE_output/Occ_sp_Squali_combined\", i, \"_G_KEEP_BDS_se_est.txt\", sep =\"\"), sep = \"\\t\", col.names = TRUE, row.names = FALSE, quote = FALSE)\n",
    "}"
   ]
  }
 ],
 "metadata": {
  "kernelspec": {
   "display_name": "R",
   "language": "R",
   "name": "ir"
  },
  "language_info": {
   "codemirror_mode": "r",
   "file_extension": ".r",
   "mimetype": "text/x-r-source",
   "name": "R",
   "pygments_lexer": "r",
   "version": "4.3.3"
  }
 },
 "nbformat": 4,
 "nbformat_minor": 4
}
