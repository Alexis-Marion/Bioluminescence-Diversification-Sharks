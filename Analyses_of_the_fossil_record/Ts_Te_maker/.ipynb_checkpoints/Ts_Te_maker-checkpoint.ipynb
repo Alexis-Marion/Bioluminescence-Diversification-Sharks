{
 "cells": [
  {
   "cell_type": "markdown",
   "metadata": {},
   "source": [
    "# Ts Te maker"
   ]
  },
  {
   "cell_type": "markdown",
   "metadata": {},
   "source": [
    "## Loading data"
   ]
  },
  {
   "cell_type": "code",
   "execution_count": null,
   "metadata": {},
   "outputs": [],
   "source": [
    "data_taxo_species <- read.table(\"../../raw_data/Data_taxo_species.tsv\", header = TRUE, sep =\"\\t\")"
   ]
  },
  {
   "cell_type": "code",
   "execution_count": null,
   "metadata": {},
   "outputs": [],
   "source": [
    "data_taxo_genus <- read.table(\"../../raw_data/Data_taxo_genus.tsv\", header = TRUE, sep =\"\\t\")"
   ]
  },
  {
   "cell_type": "code",
   "execution_count": null,
   "metadata": {},
   "outputs": [],
   "source": [
    "list_files_species <- list.files(\"../Results/Species/5_MA_bins_EXT_EP/pyrate_mcmc_logs/\", full.names = TRUE, pattern = \"se_est\")"
   ]
  },
  {
   "cell_type": "code",
   "execution_count": null,
   "metadata": {},
   "outputs": [],
   "source": [
    "list_files_genus <- list.files(\"../Results/Genus/5_MA_bins_EXT_EP/pyrate_mcmc_logs/\", full.names = TRUE, pattern = \"se_est\")"
   ]
  },
  {
   "cell_type": "markdown",
   "metadata": {},
   "source": [
    "##  Computing summary statistics on the estimated Ts Te values"
   ]
  },
  {
   "cell_type": "markdown",
   "metadata": {},
   "source": [
    "### Species"
   ]
  },
  {
   "cell_type": "code",
   "execution_count": null,
   "metadata": {},
   "outputs": [],
   "source": [
    "vec_Ts_Te <- c()\n",
    "for(i in 1:20){\n",
    "    vec_Ts_Te<- c(vec_Ts_Te, (paste(\"Ts_rep_\",i, sep = \"\")), (paste(\"Te_rep_\",i, sep = \"\")))\n",
    "}"
   ]
  },
  {
   "cell_type": "code",
   "execution_count": null,
   "metadata": {},
   "outputs": [],
   "source": [
    "Ts <- c()\n",
    "Te <- c()\n",
    "Ts_Te <- data_taxo_species\n",
    "\n",
    "for(file in list_files_species){\n",
    "    file <- read.table(file, header = TRUE)\n",
    "    Ts <- cbind(Ts, file[,3])\n",
    "    Te <- cbind(Te, file[,4])\n",
    "    Ts_Te <- cbind(Ts_Te, file[,3:4])\n",
    "}"
   ]
  },
  {
   "cell_type": "code",
   "execution_count": null,
   "metadata": {},
   "outputs": [],
   "source": [
    "tab_sp <- cbind(data_taxo_species,\n",
    "apply(X = Ts, 1, FUN = mean),\n",
    "apply(X = Te, 1, FUN = mean),\n",
    "apply(X = Ts, 1, FUN = sd),\n",
    "apply(X = Te, 1, FUN = sd))\n",
    "colnames(tab_sp)[5:8] <- c(\"Ts\", \"Te\", \"Ts_sd\", \"Te_sd\")\n",
    "\n",
    "whole_tab_sp <- Ts_Te\n",
    "colnames(whole_tab_sp)[5:44] <- vec_Ts_Te"
   ]
  },
  {
   "cell_type": "markdown",
   "metadata": {},
   "source": [
    "#### Save data"
   ]
  },
  {
   "cell_type": "code",
   "execution_count": null,
   "metadata": {},
   "outputs": [],
   "source": [
    "write.table(tab_sp, \"../../raw_data/TS_TE_SP_replicated.tsv\", sep =\"\\t\", quote = FALSE, row.names = FALSE)"
   ]
  },
  {
   "cell_type": "code",
   "execution_count": null,
   "metadata": {},
   "outputs": [],
   "source": [
    "write.table(whole_tab_sp, \"../../raw_data/whole_tab_species_ts_te.tsv\", sep =\"\\t\", quote = FALSE, row.names = FALSE)"
   ]
  },
  {
   "cell_type": "markdown",
   "metadata": {},
   "source": [
    "### Genus"
   ]
  },
  {
   "cell_type": "code",
   "execution_count": null,
   "metadata": {},
   "outputs": [],
   "source": [
    "Ts_Te <- data_taxo_genus\n",
    "\n",
    "for(file in list_files_genus){\n",
    "    file <- read.table(file, header = TRUE)\n",
    "    Ts_Te <- cbind(Ts_Te, file[,3:4])\n",
    "}"
   ]
  },
  {
   "cell_type": "code",
   "execution_count": null,
   "metadata": {},
   "outputs": [],
   "source": [
    "whole_tab_gn <- Ts_Te\n",
    "colnames(whole_tab_gn)[4:43] <- vec_Ts_Te"
   ]
  },
  {
   "cell_type": "markdown",
   "metadata": {},
   "source": [
    "#### Save data"
   ]
  },
  {
   "cell_type": "code",
   "execution_count": null,
   "metadata": {},
   "outputs": [],
   "source": [
    "write.table(whole_tab_sp, \"../../raw_data/whole_tab_genus_ts_te.tsv\", sep =\"\\t\", quote = FALSE, row.names = FALSE)"
   ]
  }
 ],
 "metadata": {
  "kernelspec": {
   "display_name": "R",
   "language": "R",
   "name": "ir"
  },
  "language_info": {
   "codemirror_mode": "r",
   "file_extension": ".r",
   "mimetype": "text/x-r-source",
   "name": "R",
   "pygments_lexer": "r",
   "version": "4.3.3"
  }
 },
 "nbformat": 4,
 "nbformat_minor": 4
}
