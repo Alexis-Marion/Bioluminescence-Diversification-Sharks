{
 "cells": [
  {
   "cell_type": "markdown",
   "metadata": {},
   "source": [
    "# Ornstein-Uhlenbeck model of trait evolution (posterior distribution)"
   ]
  },
  {
   "cell_type": "markdown",
   "metadata": {},
   "source": [
    "## Data preparation"
   ]
  },
  {
   "cell_type": "markdown",
   "metadata": {},
   "source": [
    "### Loading packages"
   ]
  },
  {
   "cell_type": "code",
   "execution_count": null,
   "metadata": {
    "scrolled": true
   },
   "outputs": [],
   "source": [
    "library(\"stringr\")\n",
    "library(\"phytools\")\n",
    "library(\"ggstatsplot\")\n",
    "library(\"tidyverse\")\n",
    "library(\"OUwie\")\n",
    "library(\"geiger\")"
   ]
  },
  {
   "cell_type": "markdown",
   "metadata": {},
   "source": [
    "### Loading data"
   ]
  },
  {
   "cell_type": "code",
   "execution_count": null,
   "metadata": {},
   "outputs": [],
   "source": [
    "args<-commandArgs(trailingOnly = TRUE)"
   ]
  },
  {
   "cell_type": "code",
   "execution_count": null,
   "metadata": {},
   "outputs": [],
   "source": [
    "df<-read.csv(\"../../raw_data/Trait_data_Squaliformes_Fossil.tsv\", sep=\"\\t\") # omit sep =\"\\t\" for .csv files"
   ]
  },
  {
   "cell_type": "code",
   "execution_count": null,
   "metadata": {},
   "outputs": [],
   "source": [
    "fossil_list<-c(\"Protosqualus_albertsi\", \"Protosqualus_sigei\", \"Squalus_minor\", \"Protocentrophorus_balticus\", \"Squaliodalatias_savoiei\", \"Eodalatias_crenulatus\", \"Isistius_trituratus\", \"Cretascymnus_adonis\", \"Trigonognathus_virginiae\", \"Proetmopterus_hemmooriensis\", \"Eoetmopterus_supracretaceus\", \"Cretascymnus_westfalicus\")"
   ]
  },
  {
   "cell_type": "markdown",
   "metadata": {},
   "source": [
    "## Running OUwie on 100 posterior trees"
   ]
  },
  {
   "cell_type": "code",
   "execution_count": null,
   "metadata": {},
   "outputs": [],
   "source": [
    "for (i in 1:100){\n",
    "    \n",
    "    data_corHMM<-paste(args[1], \"tab_replicate_\", i, \".rds\", sep =\"\")\n",
    "\n",
    "    phy<-readRDS(data_corHMM)$phy\n",
    "    node_lab<- phy$node.label\n",
    "    rate_cat <-readRDS(data_corHMM)$rate.cat\n",
    "    eq_table<-unique(readRDS(data_corHMM)$data[,2])\n",
    "    if (rate_cat == 1){\n",
    "        node_lab<- gsub(\"1\", eq_table[1], node_lab)\n",
    "        node_lab<- gsub(\"2\", eq_table[2], node_lab)\n",
    "    }\n",
    "    if (rate_cat == 2){\n",
    "        node_lab<- gsub(\"1\", eq_table[1], node_lab)\n",
    "        node_lab<- gsub(\"2\", eq_table[2], node_lab)\n",
    "        node_lab<- gsub(\"3\", eq_table[1], node_lab)\n",
    "        node_lab<- gsub(\"4\", eq_table[2], node_lab)\n",
    "    }\n",
    "    if (rate_cat == 3){\n",
    "        node_lab<- gsub(\"1\", eq_table[1], node_lab)\n",
    "        node_lab<- gsub(\"2\", eq_table[2], node_lab)\n",
    "        node_lab<- gsub(\"3\", eq_table[1], node_lab)\n",
    "        node_lab<- gsub(\"4\", eq_table[2], node_lab)\n",
    "        node_lab<- gsub(\"5\", eq_table[1], node_lab)\n",
    "        node_lab<- gsub(\"6\", eq_table[2], node_lab)\n",
    "    }\n",
    "    phy$node.label<-node_lab\n",
    "    phy<-drop.tip(phy, fossil_list)\n",
    "\n",
    "df$Species<-str_replace(df$Species, \" \", \"_\")\n",
    "\n",
    "states<-df\n",
    "\n",
    "states_traits<-states[!states$Species %in% setdiff(states$Species, phy$tip.label),]\n",
    "\n",
    "categorical_trait<-states_traits[,as.numeric(args[2])]\n",
    "names(categorical_trait)<-states_traits$Species\n",
    "\n",
    "continuous_trait<-log(states_traits$Body.size)\n",
    "names(continuous_trait)<-states_traits$Species\n",
    "\n",
    "dtf<-as.data.frame(cbind(categorical_trait,continuous_trait))\n",
    "\n",
    "dtf$continuous_trait<-as.numeric(dtf$continuous_trait)\n",
    "\n",
    "## Running OUwie\n",
    "\n",
    "dat<-cbind(rownames(dtf),dtf)\n",
    "\n",
    "### Brownian motion\n",
    "    \n",
    "BM1 <- OUwie(phy, dat, model = \"BM1\", algorithm = 'invert', simmap.tree = FALSE)\n",
    "\n",
    "### Ornstein-Uhlenbeck one optimum\n",
    "    \n",
    "OU1 <- OUwie(phy, dat, model = \"OU1\", algorithm = 'invert', simmap.tree = FALSE)\n",
    "\n",
    "### Ornstein-Uhlenbeck multiple optima\n",
    "    \n",
    "OUM <- OUwie(phy, dat, model = \"OUM\", algorithm = 'invert', simmap.tree = FALSE)\n",
    "\n",
    "### Get AICc metrics\n",
    "\n",
    "np<-c(BM1$param.count, OU1$param.count, OUM$param.count)\n",
    "lnLik<-c(BM1$loglik, OU1$loglik, OUM$loglik)\n",
    "AICc<-c(BM1$AICc, OU1$AICc, OUM$AICc)\n",
    "dAICc<-geiger::aicw(AICc)[,2]\n",
    "AICcwt<-geiger::aicw(AICc)[,3]\n",
    "\n",
    "model_table_AICc<-as.data.frame(cbind(np,lnLik, AICc, dAICc, AICcwt))\n",
    "rownames(model_table_AICc)<-c(\"BM1\", \"OU1\", \"OUM\")\n",
    "\n",
    "### Save model ranking dataframe\n",
    "\n",
    "write.table(model_table_AICc, paste(args[3], \"tab_replicate_OUwie_\", i, \".tsv\", sep =\"\"), sep =\"\\t\")\n",
    "saveRDS(eval(parse(text = rownames(model_table_AICc)[which.min(model_table_AICc$AICc)])),paste(args[3], \"tab_replicate_OUwie_\", i, \".rds\", sep =\"\"))\n",
    "}"
   ]
  }
 ],
 "metadata": {
  "kernelspec": {
   "display_name": "R",
   "language": "R",
   "name": "ir"
  },
  "language_info": {
   "codemirror_mode": "r",
   "file_extension": ".r",
   "mimetype": "text/x-r-source",
   "name": "R",
   "pygments_lexer": "r",
   "version": "4.3.3"
  }
 },
 "nbformat": 4,
 "nbformat_minor": 4
}
