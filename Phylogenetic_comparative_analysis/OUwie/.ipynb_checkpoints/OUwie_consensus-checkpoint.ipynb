{
 "cells": [
  {
   "cell_type": "markdown",
   "metadata": {},
   "source": [
    "# Ornstein-Uhlenbeck model of trait evolution"
   ]
  },
  {
   "cell_type": "markdown",
   "metadata": {},
   "source": [
    "## Data preparation"
   ]
  },
  {
   "cell_type": "markdown",
   "metadata": {},
   "source": [
    "### Loading packages"
   ]
  },
  {
   "cell_type": "code",
   "execution_count": null,
   "metadata": {
    "scrolled": true
   },
   "outputs": [],
   "source": [
    "library(\"stringr\")\n",
    "library(\"phytools\")\n",
    "library(\"ggstatsplot\")\n",
    "library(\"tidyverse\")\n",
    "library(\"OUwie\")\n",
    "library(\"geiger\")"
   ]
  },
  {
   "cell_type": "markdown",
   "metadata": {},
   "source": [
    "### Loading data"
   ]
  },
  {
   "cell_type": "code",
   "execution_count": null,
   "metadata": {},
   "outputs": [],
   "source": [
    "args<-commandArgs(trailingOnly = TRUE)"
   ]
  },
  {
   "cell_type": "code",
   "execution_count": null,
   "metadata": {
    "scrolled": true
   },
   "outputs": [],
   "source": [
    "df<-read.csv(\"../../raw_data/Trait_data_Squaliformes_Fossil.tsv\", sep=\"\\t\") # omit sep =\"\\t\" for .csv files"
   ]
  },
  {
   "cell_type": "markdown",
   "metadata": {},
   "source": [
    "### Cleaning data an removing fossils"
   ]
  },
  {
   "cell_type": "code",
   "execution_count": null,
   "metadata": {},
   "outputs": [],
   "source": [
    "fossil_list<-c(\"Protosqualus_albertsi\", \"Protosqualus_sigei\", \"Squalus_minor\", \"Protocentrophorus_balticus\", \"Squaliodalatias_savoiei\", \"Eodalatias_crenulatus\", \"Isistius_trituratus\", \"Cretascymnus_adonis\", \"Trigonognathus_virginiae\", \"Proetmopterus_hemmooriensis\", \"Eoetmopterus_supracretaceus\", \"Cretascymnus_westfalicus\")\n",
    "\n",
    "    phy<-readRDS(args[1])$phy\n",
    "    node_lab<- phy$node.label\n",
    "    rate_cat <-readRDS(args[1])$rate.cat\n",
    "    eq_table<-unique(readRDS(args[1])$data[,2])\n",
    "    if (rate_cat == 1){\n",
    "        node_lab<- gsub(\"1\", eq_table[1], node_lab)\n",
    "        node_lab<- gsub(\"2\", eq_table[2], node_lab)\n",
    "    }\n",
    "    if (rate_cat == 2){\n",
    "        node_lab<- gsub(\"1\", eq_table[1], node_lab)\n",
    "        node_lab<- gsub(\"2\", eq_table[2], node_lab)\n",
    "        node_lab<- gsub(\"3\", eq_table[1], node_lab)\n",
    "        node_lab<- gsub(\"4\", eq_table[2], node_lab)\n",
    "    }\n",
    "    if (rate_cat == 3){\n",
    "        node_lab<- gsub(\"1\", eq_table[1], node_lab)\n",
    "        node_lab<- gsub(\"2\", eq_table[2], node_lab)\n",
    "        node_lab<- gsub(\"3\", eq_table[1], node_lab)\n",
    "        node_lab<- gsub(\"4\", eq_table[2], node_lab)\n",
    "        node_lab<- gsub(\"5\", eq_table[1], node_lab)\n",
    "        node_lab<- gsub(\"6\", eq_table[2], node_lab)\n",
    "    }\n",
    "    phy$node.label<-node_lab\n",
    "    phy<-drop.tip(phy, fossil_list)"
   ]
  },
  {
   "cell_type": "markdown",
   "metadata": {},
   "source": [
    "### Preparing data for analysis"
   ]
  },
  {
   "cell_type": "code",
   "execution_count": null,
   "metadata": {},
   "outputs": [],
   "source": [
    "df$Species<-str_replace(df$Species, \" \", \"_\")\n",
    "states<-df\n",
    "states_traits<-states[!states$Species %in% setdiff(states$Species, phy$tip.label),]\n",
    "categorical_trait<-states_traits[,as.numeric(args[2])]\n",
    "names(categorical_trait)<-states_traits$Species\n",
    "continuous_trait<-log(states_traits$Body.size)\n",
    "names(continuous_trait)<-states_traits$Species\n",
    "dtf<-as.data.frame(cbind(categorical_trait,continuous_trait))\n",
    "dtf$continuous_trait<-as.numeric(dtf$continuous_trait)\n",
    "dat<-cbind(rownames(dtf),dtf)"
   ]
  },
  {
   "cell_type": "markdown",
   "metadata": {},
   "source": [
    "## Running OUwie"
   ]
  },
  {
   "cell_type": "markdown",
   "metadata": {},
   "source": [
    "### Brownian motion"
   ]
  },
  {
   "cell_type": "code",
   "execution_count": null,
   "metadata": {},
   "outputs": [],
   "source": [
    "BM1 <- OUwie(phy, dat, model = \"BM1\", algorithm = 'invert', simmap.tree = FALSE)"
   ]
  },
  {
   "cell_type": "markdown",
   "metadata": {},
   "source": [
    "### Ornstein-Uhlenbeck one optimum"
   ]
  },
  {
   "cell_type": "code",
   "execution_count": null,
   "metadata": {},
   "outputs": [],
   "source": [
    "OU1 <- OUwie(phy, dat, model = \"OU1\", algorithm = 'invert', simmap.tree = FALSE)"
   ]
  },
  {
   "cell_type": "markdown",
   "metadata": {},
   "source": [
    "### Ornstein-Uhlenbeck multiple optima"
   ]
  },
  {
   "cell_type": "code",
   "execution_count": null,
   "metadata": {
    "scrolled": true
   },
   "outputs": [],
   "source": [
    "OUM <- OUwie(phy, dat, model = \"OUM\", algorithm = 'invert', simmap.tree = FALSE)"
   ]
  },
  {
   "cell_type": "markdown",
   "metadata": {},
   "source": [
    "### Get AICc metrics"
   ]
  },
  {
   "cell_type": "code",
   "execution_count": null,
   "metadata": {},
   "outputs": [],
   "source": [
    "np<-c(BM1$param.count, OU1$param.count, OUM$param.count)\n",
    "lnLik<-c(BM1$loglik, OU1$loglik, OUM$loglik)\n",
    "AICc<-c(BM1$AICc, OU1$AICc, OUM$AICc)\n",
    "dAICc<-geiger::aicw(AICc)[,2]\n",
    "AICcwt<-geiger::aicw(AICc)[,3]\n",
    "\n",
    "model_table_AICc<-as.data.frame(cbind(np,lnLik, AICc, dAICc, AICcwt))\n",
    "rownames(model_table_AICc)<-c(\"BM1\", \"OU1\", \"OUM\")"
   ]
  },
  {
   "cell_type": "markdown",
   "metadata": {},
   "source": [
    "### Save model ranking dataframe"
   ]
  },
  {
   "cell_type": "code",
   "execution_count": null,
   "metadata": {},
   "outputs": [],
   "source": [
    "write.table(model_table_AICc, args[3], sep =\"\\t\")\n",
    "saveRDS(eval(parse(text = rownames(model_table_AICc)[which.min(model_table_AICc$AICc)])),args[4])"
   ]
  }
 ],
 "metadata": {
  "kernelspec": {
   "display_name": "R",
   "language": "R",
   "name": "ir"
  },
  "language_info": {
   "codemirror_mode": "r",
   "file_extension": ".r",
   "mimetype": "text/x-r-source",
   "name": "R",
   "pygments_lexer": "r",
   "version": "4.3.3"
  }
 },
 "nbformat": 4,
 "nbformat_minor": 4
}
