{
 "cells": [
  {
   "cell_type": "markdown",
   "metadata": {},
   "source": [
    "# Phylogenetic analysis of variance (PANOVA)"
   ]
  },
  {
   "cell_type": "markdown",
   "metadata": {},
   "source": [
    "## Data preparation"
   ]
  },
  {
   "cell_type": "markdown",
   "metadata": {},
   "source": [
    "### Loading packages"
   ]
  },
  {
   "cell_type": "code",
   "execution_count": null,
   "metadata": {},
   "outputs": [],
   "source": [
    "library(\"stringr\")\n",
    "library(\"phytools\")\n",
    "library(\"RRPP\")"
   ]
  },
  {
   "cell_type": "markdown",
   "metadata": {},
   "source": [
    "### Loading data"
   ]
  },
  {
   "cell_type": "code",
   "execution_count": null,
   "metadata": {},
   "outputs": [],
   "source": [
    "args<-commandArgs(trailingOnly = TRUE)"
   ]
  },
  {
   "cell_type": "code",
   "execution_count": null,
   "metadata": {},
   "outputs": [],
   "source": [
    "df<-read.csv(\"../../raw_data/Trait_data_Squaliformes_Fossil.tsv\", sep=\"\\t\") # omit sep =\"\\t\" for .csv files\n",
    "phy<-read.tree(\"../../raw_data/Squaliformes_posterior_distribution.tree\")\n",
    "phy<-phy[[as.numeric(args[1])]]"
   ]
  },
  {
   "cell_type": "markdown",
   "metadata": {},
   "source": [
    "### Cleaning data"
   ]
  },
  {
   "cell_type": "code",
   "execution_count": null,
   "metadata": {},
   "outputs": [],
   "source": [
    "df$Species<-str_replace(df$Species, \" \", \"_\")\n",
    "states<-df\n",
    "states_traits<-states[!states$Species %in% setdiff(states$Species, phy$tip.label),]"
   ]
  },
  {
   "cell_type": "markdown",
   "metadata": {},
   "source": [
    "### Preparing Data"
   ]
  },
  {
   "cell_type": "code",
   "execution_count": null,
   "metadata": {},
   "outputs": [],
   "source": [
    "categorical_trait<-states_traits[args[2]]\n",
    "names(categorical_trait)<-states_traits$Species\n",
    "continuous_trait<-log(states_traits$Body.size)\n",
    "names(continuous_trait)<-states_traits$Species"
   ]
  },
  {
   "cell_type": "markdown",
   "metadata": {},
   "source": [
    "## Running PANOVA"
   ]
  },
  {
   "cell_type": "code",
   "execution_count": null,
   "metadata": {},
   "outputs": [],
   "source": [
    "phanov_sim <- phylANOVA(phy, categorical_trait, continuous_trait, nsim=10000, posthoc=TRUE, p.adj=\"bonferroni\")"
   ]
  },
  {
   "cell_type": "markdown",
   "metadata": {},
   "source": [
    "## Running PANOVA (RRPP PANOVA)"
   ]
  },
  {
   "cell_type": "code",
   "execution_count": null,
   "metadata": {},
   "outputs": [],
   "source": [
    "GLS_PANOVA_RRPP <- lm.rrpp(continuous_trait ~ categorical_trait, \n",
    "                  print.progress = FALSE,\n",
    "                  Cov = vcv(phy),\n",
    "                  turbo = FALSE, verbose = TRUE)"
   ]
  },
  {
   "cell_type": "markdown",
   "metadata": {},
   "source": [
    "### Saving data"
   ]
  },
  {
   "cell_type": "code",
   "execution_count": null,
   "metadata": {},
   "outputs": [],
   "source": [
    "saveRDS(phanov, paste(\"PANOVA/data_panova_sim\", args[3], \"_\", args[1], \".rds\", sep = '_'))"
   ]
  },
  {
   "cell_type": "code",
   "execution_count": null,
   "metadata": {},
   "outputs": [],
   "source": [
    "saveRDS(anova(GLS_PANOVA_RRPP), paste(\"PANOVA/data_panova_RRPP\", args[3], \"_\", args[2], \"_\", \".rds\", sep = '_'))"
   ]
  }
 ],
 "metadata": {
  "kernelspec": {
   "display_name": "R",
   "language": "R",
   "name": "ir"
  },
  "language_info": {
   "codemirror_mode": "r",
   "file_extension": ".r",
   "mimetype": "text/x-r-source",
   "name": "R",
   "pygments_lexer": "r",
   "version": "4.3.3"
  }
 },
 "nbformat": 4,
 "nbformat_minor": 4
}
