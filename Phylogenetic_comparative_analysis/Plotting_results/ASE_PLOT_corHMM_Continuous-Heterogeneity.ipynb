{
 "cells": [
  {
   "cell_type": "code",
   "execution_count": 1,
   "metadata": {
    "scrolled": true
   },
   "outputs": [
    {
     "name": "stderr",
     "output_type": "stream",
     "text": [
      "\u001b[90mggtree v3.10.1 For help: https://yulab-smu.top/treedata-book/\n",
      "\n",
      "If you use the ggtree package suite in published research, please cite\n",
      "the appropriate paper(s):\n",
      "\n",
      "Guangchuang Yu, David Smith, Huachen Zhu, Yi Guan, Tommy Tsan-Yuk Lam.\n",
      "ggtree: an R package for visualization and annotation of phylogenetic\n",
      "trees with their covariates and other associated data. Methods in\n",
      "Ecology and Evolution. 2017, 8(1):28-36. doi:10.1111/2041-210X.12628\n",
      "\n",
      "Guangchuang Yu.  Data Integration, Manipulation and Visualization of\n",
      "Phylogenetic Trees (1st edition). Chapman and Hall/CRC. 2022,\n",
      "doi:10.1201/9781003279242\n",
      "\n",
      "S Xu, Z Dai, P Guo, X Fu, S Liu, L Zhou, W Tang, T Feng, M Chen, L\n",
      "Zhan, T Wu, E Hu, Y Jiang, X Bo, G Yu. ggtreeExtra: Compact\n",
      "visualization of richly annotated phylogenetic data. Molecular Biology\n",
      "and Evolution. 2021, 38(9):4039-4042. doi: 10.1093/molbev/msab166 \u001b[39m\n",
      "\n",
      "Le chargement a nécessité le package : ggpp\n",
      "\n",
      "Registered S3 methods overwritten by 'ggpp':\n",
      "  method                  from   \n",
      "  heightDetails.titleGrob ggplot2\n",
      "  widthDetails.titleGrob  ggplot2\n",
      "\n",
      "\n",
      "Attachement du package : ‘ggpp’\n",
      "\n",
      "\n",
      "L'objet suivant est masqué depuis ‘package:ggplot2’:\n",
      "\n",
      "    annotate\n",
      "\n",
      "\n",
      "Registered S3 method overwritten by 'ggpmisc':\n",
      "  method                  from   \n",
      "  as.character.polynomial polynom\n",
      "\n"
     ]
    }
   ],
   "source": [
    "library(\"stringr\")\n",
    "library(\"ggtree\")\n",
    "library(\"ggplot2\")\n",
    "library(\"ggpmisc\")"
   ]
  },
  {
   "cell_type": "code",
   "execution_count": 2,
   "metadata": {},
   "outputs": [],
   "source": [
    "trait_model<-readRDS(\"../corHMM/habitat_fossilized.rds\")\n",
    "\n",
    "df<-read.csv(\"../../../raw_data/Trait_data_Squaliformes_Fossil.tsv\", sep=\"\\t\") # omit sep =\"\\t\" for .csv files\n",
    "\n",
    "phy<-read.tree(\"../../../raw_data/Squaliformes_fossil.tree\")\n",
    "\n",
    "### Cleaning and preparing data\n",
    "\n",
    "df$Species<-str_replace(df$Species, \" \", \"_\")\n",
    "\n",
    "states<-cbind(df$Species, df$Body.size, df$Bioluminescent, df$Habitat)\n",
    "\n",
    "states_traits<-states[!states[,1] %in% setdiff(states[,1], phy$tip.label),]\n",
    "\n",
    "states_traits[is.na(states_traits)]<-\"?\"\n",
    "\n",
    "states_traits<-states_traits[,c(1, 2, 3)]\n",
    "colnames(states_traits)<-c(\"Species\", \"Continuous\", \"Categorical\")\n",
    "states_traits<-as.data.frame(states_traits)"
   ]
  },
  {
   "cell_type": "code",
   "execution_count": 3,
   "metadata": {},
   "outputs": [],
   "source": [
    "node_states_traits<-trait_model$states\n",
    "\n",
    "### assuming you have no polytomies\n",
    "\n",
    "node_states<-((length(phy$tip.label)+1):(length(phy$tip.label)+phy$Nnode))\n",
    "\n",
    "### assuming you have a binary trait    \n",
    "\n",
    "    if(trait_model$rate.cat == 1){\n",
    "        col1 <- (node_states_traits[,1])\n",
    "        col2 <- (node_states_traits[,2])\n",
    "    }\n",
    "    if(trait_model$rate.cat == 2){\n",
    "        col1 <- (node_states_traits[,1]+node_states_traits[,2])\n",
    "        col2 <- (node_states_traits[,3]+node_states_traits[,4])\n",
    "    }\n",
    "    if(trait_model$rate.cat == 3){\n",
    "        col1 <- (node_states_traits[,1]+node_states_traits[,2]+node_states_traits[,3])\n",
    "        col2 <- (node_states_traits[,4]+node_states_traits[,5]+node_states_traits[,6])\n",
    "    }\n"
   ]
  },
  {
   "cell_type": "code",
   "execution_count": 4,
   "metadata": {},
   "outputs": [],
   "source": [
    "# Branch\n",
    " color_list <- c(\"#1B9E77\", \"#D95F02\")\n",
    "\n",
    "# Habitat\n",
    "# color_list <- c(\"#5E4FA2\", \"#74BDCB\")\n",
    "\n",
    "# Bioluminescence\n",
    "#color_list <- c(\"#A4BDCA\", \"#A29C7B\")"
   ]
  },
  {
   "cell_type": "code",
   "execution_count": 5,
   "metadata": {},
   "outputs": [],
   "source": [
    "filename_plot<-\"ASE_Habitat_Heterogeneity.pdf\""
   ]
  },
  {
   "cell_type": "code",
   "execution_count": 6,
   "metadata": {},
   "outputs": [],
   "source": [
    "    node_states_traits<-cbind(col1, col2, node_states)\n",
    "    colnames(node_states_traits)<-c(\"Slow\", \"Fast\", \"node\")\n",
    "    node_states_traits<-as.data.frame(node_states_traits)\n",
    "    pies <- nodepie(node_states_traits, cols=1:2, color=color_list, alpha=1)"
   ]
  },
  {
   "cell_type": "code",
   "execution_count": 7,
   "metadata": {},
   "outputs": [],
   "source": [
    "phy<-ggtree(phy)+\n",
    "           geom_tiplab(offset = 0.5, size = 2.5, fontface = 4) +\n",
    "           theme_bw() +\n",
    "           theme(panel.border = element_blank(),\n",
    "           legend.key = element_blank(),\n",
    "           axis.ticks = element_blank(),\n",
    "           axis.text.y = element_blank(),\n",
    "           axis.text.x = element_blank(),\n",
    "           panel.grid = element_blank(),\n",
    "           panel.grid.minor = element_blank(), \n",
    "           panel.grid.major = element_blank(),\n",
    "           panel.background = element_blank(),\n",
    "           plot.background = element_rect(fill = \"transparent\",colour = NA))"
   ]
  },
  {
   "cell_type": "code",
   "execution_count": 8,
   "metadata": {},
   "outputs": [],
   "source": [
    "    phy_node <- phy %<+% node_states_traits\n",
    "    phy_complete<-phy_node + geom_plot(data=td_filter(!isTip), mapping=aes(x=x,y=y, label=pies), vp.width=0.03, vp.height=0.03, hjust=0.6, vjust=0.6)\n",
    "    ASE_plot<-phy_complete + geom_tippoint(data=td_filter(isTip))"
   ]
  },
  {
   "cell_type": "code",
   "execution_count": 9,
   "metadata": {},
   "outputs": [],
   "source": [
    "ggsave(ASE_plot, filename = filename_plot,  bg = \"transparent\", width = 10, height = 10)"
   ]
  }
 ],
 "metadata": {
  "kernelspec": {
   "display_name": "R",
   "language": "R",
   "name": "ir"
  },
  "language_info": {
   "codemirror_mode": "r",
   "file_extension": ".r",
   "mimetype": "text/x-r-source",
   "name": "R",
   "pygments_lexer": "r",
   "version": "4.3.3"
  }
 },
 "nbformat": 4,
 "nbformat_minor": 4
}
