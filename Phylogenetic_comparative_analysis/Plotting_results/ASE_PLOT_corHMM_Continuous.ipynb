{
 "cells": [
  {
   "cell_type": "code",
   "execution_count": 10,
   "metadata": {
    "scrolled": true
   },
   "outputs": [],
   "source": [
    "library(\"stringr\")\n",
    "library(\"ggtree\")\n",
    "library(\"ggplot2\")\n",
    "library(\"ggpmisc\")"
   ]
  },
  {
   "cell_type": "code",
   "execution_count": 11,
   "metadata": {},
   "outputs": [],
   "source": [
    "trait_model<-readRDS(\"../corHMM/bioluminescent_fossilized.rds\")\n",
    "\n",
    "df<-read.csv(\"../../../raw_data/Trait_data_Squaliformes_Fossil.tsv\", sep=\"\\t\") # omit sep =\"\\t\" for .csv files\n",
    "\n",
    "phy<-read.tree(\"../../../raw_data/Squaliformes_fossil.tree\")\n",
    "\n",
    "### Cleaning and preparing data\n",
    "\n",
    "df$Species<-str_replace(df$Species, \" \", \"_\")\n",
    "\n",
    "states<-cbind(df$Species, df$Body.size, df$Bioluminescent, df$Habitat)\n",
    "\n",
    "states_traits<-states[!states[,1] %in% setdiff(states[,1], phy$tip.label),]\n",
    "\n",
    "states_traits[is.na(states_traits)]<-\"?\"\n",
    "\n",
    "states_traits<-states_traits[,c(1, 2, 4)]\n",
    "colnames(states_traits)<-c(\"Species\", \"Continuous\", \"Categorical\")\n",
    "states_traits<-as.data.frame(states_traits)"
   ]
  },
  {
   "cell_type": "code",
   "execution_count": 12,
   "metadata": {},
   "outputs": [],
   "source": [
    "node_states_traits<-trait_model$states\n",
    "\n",
    "### assuming you have no polytomies\n",
    "\n",
    "node_states<-((length(phy$tip.label)+1):(length(phy$tip.label)+phy$Nnode))\n",
    "\n",
    "### assuming you have a binary trait    \n",
    "\n",
    "    if(trait_model$rate.cat == 1){\n",
    "        col1 <- (node_states_traits[,1])\n",
    "        col2 <- (node_states_traits[,2])\n",
    "    }\n",
    "    if(trait_model$rate.cat == 2){\n",
    "        col1 <- (node_states_traits[,1]+node_states_traits[,3])\n",
    "        col2 <- (node_states_traits[,2]+node_states_traits[,4])\n",
    "    }\n",
    "    if(trait_model$rate.cat == 3){\n",
    "        col1 <- (node_states_traits[,1]+node_states_traits[,3]+node_states_traits[,5])\n",
    "        col2 <- (node_states_traits[,2]+node_states_traits[,4]+node_states_traits[,6])\n",
    "    }\n"
   ]
  },
  {
   "cell_type": "code",
   "execution_count": 13,
   "metadata": {},
   "outputs": [],
   "source": [
    "# Branch\n",
    "#color_list <- c(\"#1B9E77\", \"#D95F02\")\n",
    "\n",
    "# Habitat\n",
    "#color_list <- c(\"#5E4FA2\", \"#74BDCB\")\n",
    "\n",
    "# Bioluminescence\n",
    "color_list <- c(\"#A4BDCA\", \"#A29C7B\")"
   ]
  },
  {
   "cell_type": "code",
   "execution_count": 14,
   "metadata": {},
   "outputs": [],
   "source": [
    "filename_plot<-\"ASE_Bioluminescent_extinct.pdf\""
   ]
  },
  {
   "cell_type": "code",
   "execution_count": 15,
   "metadata": {},
   "outputs": [],
   "source": [
    "phy<-ggtree(phy, aes(color = log(as.numeric(Continuous))), size= 1.75) %<+% as.data.frame(states_traits[states_traits[,1] %in% phy$tip.label,c(1,2,3)]) + \n",
    "           scale_color_continuous(name= \"Maximum Body-size\",oob=scales::squish,low= \"#F4EBBC\", high= \"#9E0142\") + \n",
    "           geom_tiplab(offset = 0.5, size = 2.5, fontface = 4) +\n",
    "           theme_bw() +\n",
    "           theme(panel.border = element_blank(),\n",
    "           legend.key = element_blank(),\n",
    "           axis.ticks = element_blank(),\n",
    "           axis.text.y = element_blank(),\n",
    "           axis.text.x = element_blank(),\n",
    "           panel.grid = element_blank(),\n",
    "           panel.grid.minor = element_blank(), \n",
    "           panel.grid.major = element_blank(),\n",
    "           panel.background = element_blank(),\n",
    "           plot.background = element_rect(fill = \"transparent\",colour = NA))"
   ]
  },
  {
   "cell_type": "code",
   "execution_count": 16,
   "metadata": {},
   "outputs": [],
   "source": [
    "    node_states_traits<-cbind(col1, col2, node_states)\n",
    "    colnames(node_states_traits)<-c(\"No\", \"Yes\", \"node\")\n",
    "    node_states_traits<-as.data.frame(node_states_traits)\n",
    "    pies <- nodepie(node_states_traits, cols=1:2, color=color_list, alpha=1)"
   ]
  },
  {
   "cell_type": "code",
   "execution_count": 17,
   "metadata": {},
   "outputs": [],
   "source": [
    "    df<-tibble::tibble(node=as.numeric(node_states_traits$node), pies=pies)\n",
    "    phy_node <- phy %<+% df\n",
    "    phy_complete<-phy_node + geom_plot(data=td_filter(!isTip), mapping=aes(x=x,y=y, label=pies), vp.width=0.03, vp.height=0.03, hjust=0.6, vjust=0.6)\n",
    "    ASE_plot<-phy_complete + geom_tippoint(data=td_filter(isTip))"
   ]
  },
  {
   "cell_type": "code",
   "execution_count": 18,
   "metadata": {},
   "outputs": [
    {
     "name": "stderr",
     "output_type": "stream",
     "text": [
      "Warning message in FUN(X[[i]], ...):\n",
      "“NAs introduits lors de la conversion automatique”\n",
      "Warning message in FUN(X[[i]], ...):\n",
      "“NAs introduits lors de la conversion automatique”\n",
      "Warning message in FUN(X[[i]], ...):\n",
      "“NAs introduits lors de la conversion automatique”\n",
      "Warning message in FUN(X[[i]], ...):\n",
      "“NAs introduits lors de la conversion automatique”\n"
     ]
    }
   ],
   "source": [
    "ggsave(ASE_plot, filename = filename_plot,  bg = \"transparent\", width = 10, height = 10)"
   ]
  }
 ],
 "metadata": {
  "kernelspec": {
   "display_name": "R",
   "language": "R",
   "name": "ir"
  },
  "language_info": {
   "codemirror_mode": "r",
   "file_extension": ".r",
   "mimetype": "text/x-r-source",
   "name": "R",
   "pygments_lexer": "r",
   "version": "4.3.3"
  }
 },
 "nbformat": 4,
 "nbformat_minor": 4
}
