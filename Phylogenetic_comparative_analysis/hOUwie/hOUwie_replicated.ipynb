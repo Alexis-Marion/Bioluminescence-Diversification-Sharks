{
 "cells": [
  {
   "cell_type": "markdown",
   "metadata": {},
   "source": [
    "# Ornstein-Uhlenbeck model of trait evolution (Hidden rates, posterior distribution)"
   ]
  },
  {
   "cell_type": "markdown",
   "metadata": {},
   "source": [
    "## Data preparation"
   ]
  },
  {
   "cell_type": "markdown",
   "metadata": {},
   "source": [
    "### Loading packages"
   ]
  },
  {
   "cell_type": "code",
   "execution_count": 3,
   "metadata": {
    "scrolled": true
   },
   "outputs": [
    {
     "name": "stderr",
     "output_type": "stream",
     "text": [
      "Le chargement a nécessité le package : ape\n",
      "\n",
      "Le chargement a nécessité le package : maps\n",
      "\n",
      "You can cite this package as:\n",
      "     Patil, I. (2021). Visualizations with statistical details: The 'ggstatsplot' approach.\n",
      "     Journal of Open Source Software, 6(61), 3167, doi:10.21105/joss.03167\n",
      "\n",
      "── \u001b[1mAttaching core tidyverse packages\u001b[22m ──────────────────────── tidyverse 2.0.0 ──\n",
      "\u001b[32m✔\u001b[39m \u001b[34mdplyr    \u001b[39m 1.1.4     \u001b[32m✔\u001b[39m \u001b[34mpurrr    \u001b[39m 1.0.2\n",
      "\u001b[32m✔\u001b[39m \u001b[34mforcats  \u001b[39m 1.0.0     \u001b[32m✔\u001b[39m \u001b[34mreadr    \u001b[39m 2.1.5\n",
      "\u001b[32m✔\u001b[39m \u001b[34mggplot2  \u001b[39m 3.5.0     \u001b[32m✔\u001b[39m \u001b[34mtibble   \u001b[39m 3.2.1\n",
      "\u001b[32m✔\u001b[39m \u001b[34mlubridate\u001b[39m 1.9.3     \u001b[32m✔\u001b[39m \u001b[34mtidyr    \u001b[39m 1.3.1\n",
      "── \u001b[1mConflicts\u001b[22m ────────────────────────────────────────── tidyverse_conflicts() ──\n",
      "\u001b[31m✖\u001b[39m \u001b[34mdplyr\u001b[39m::\u001b[32mfilter()\u001b[39m masks \u001b[34mstats\u001b[39m::filter()\n",
      "\u001b[31m✖\u001b[39m \u001b[34mdplyr\u001b[39m::\u001b[32mlag()\u001b[39m    masks \u001b[34mstats\u001b[39m::lag()\n",
      "\u001b[31m✖\u001b[39m \u001b[34mpurrr\u001b[39m::\u001b[32mmap()\u001b[39m    masks \u001b[34mmaps\u001b[39m::map()\n",
      "\u001b[31m✖\u001b[39m \u001b[34mdplyr\u001b[39m::\u001b[32mwhere()\u001b[39m  masks \u001b[34mape\u001b[39m::where()\n",
      "\u001b[36mℹ\u001b[39m Use the conflicted package (\u001b[3m\u001b[34m<http://conflicted.r-lib.org/>\u001b[39m\u001b[23m) to force all conflicts to become errors\n",
      "Le chargement a nécessité le package : corpcor\n",
      "\n",
      "Le chargement a nécessité le package : nloptr\n",
      "\n",
      "Le chargement a nécessité le package : geiger\n",
      "\n",
      "Le chargement a nécessité le package : RColorBrewer\n",
      "\n"
     ]
    }
   ],
   "source": [
    "library(\"stringr\")\n",
    "library(\"phytools\")\n",
    "library(\"ggstatsplot\")\n",
    "library(\"tidyverse\")\n",
    "library(\"OUwie\")\n",
    "library(\"geiger\")"
   ]
  },
  {
   "cell_type": "markdown",
   "metadata": {},
   "source": [
    "### Loading data"
   ]
  },
  {
   "cell_type": "code",
   "execution_count": 9,
   "metadata": {},
   "outputs": [],
   "source": [
    "args<-commandArgs(trailingOnly = TRUE)"
   ]
  },
  {
   "cell_type": "code",
   "execution_count": 5,
   "metadata": {},
   "outputs": [],
   "source": [
    "df<-read.csv(\"../../raw_data/Trait_data_Squaliformes_Fossil.tsv\", sep=\"\\t\") # omit sep =\"\\t\" for .csv files\n",
    "phy<-read.tree(\"../../raw_data/Squaliformes_posterior_distribution.tree\")\n",
    "phy<-phy[[as.numeric(args[1])]]"
   ]
  },
  {
   "cell_type": "markdown",
   "metadata": {},
   "source": [
    "### Preparing data for analysis"
   ]
  },
  {
   "cell_type": "code",
   "execution_count": 3,
   "metadata": {},
   "outputs": [],
   "source": [
    "df$Species<-str_replace(df$Species, \" \", \"_\")\n",
    "states<-df\n",
    "states_traits<-states[!states$Species %in% setdiff(states$Species, phy$tip.label),\n",
    "categorical_trait<-states_traits[,args[2]]\n",
    "continuous_trait<-log(states_traits$Body.size)\n",
    "data<-as.data.frame(cbind(states_traits$Species, categorical_trait,continuous_trait))\n",
    "data$continuous_trait<-as.numeric(data$continuous_trait)"
   ]
  },
  {
   "cell_type": "markdown",
   "metadata": {},
   "source": [
    "## Running OUwie"
   ]
  },
  {
   "cell_type": "markdown",
   "metadata": {},
   "source": [
    "### One-rate category, equal rates"
   ]
  },
  {
   "cell_type": "markdown",
   "metadata": {},
   "source": [
    "### Brownian motion"
   ]
  },
  {
   "cell_type": "code",
   "execution_count": null,
   "metadata": {},
   "outputs": [],
   "source": [
    "R1_bm1_er <- hOUwie(phy, data, discrete_model = \"ER\", continuous_model = \"BM1\", rate.cat = 1, nSim = 100)"
   ]
  },
  {
   "cell_type": "markdown",
   "metadata": {},
   "source": [
    "#### Ornstein-Uhlenbeck one optima"
   ]
  },
  {
   "cell_type": "code",
   "execution_count": null,
   "metadata": {},
   "outputs": [],
   "source": [
    "R1_ou1_er <- hOUwie(phy, data, discrete_model = \"ER\", continuous_model = \"OU1\", rate.cat = 1, nSim = 100)"
   ]
  },
  {
   "cell_type": "markdown",
   "metadata": {},
   "source": [
    "#### Ornstein-Uhlenbeck multiple optima"
   ]
  },
  {
   "cell_type": "code",
   "execution_count": 16,
   "metadata": {
    "scrolled": true
   },
   "outputs": [],
   "source": [
    "R1_oum_er <- hOUwie(phy, data, discrete_model = \"ER\", continuous_model = \"OUM\", rate.cat = 1, nSim = 100)"
   ]
  },
  {
   "cell_type": "markdown",
   "metadata": {},
   "source": [
    "### One-rate category, all rates differ"
   ]
  },
  {
   "cell_type": "markdown",
   "metadata": {},
   "source": [
    "### Brownian motion"
   ]
  },
  {
   "cell_type": "code",
   "execution_count": null,
   "metadata": {},
   "outputs": [],
   "source": [
    "R1_bm_ard <- hOUwie(phy, data, discrete_model = \"ARD\", continuous_model = \"BM1\", rate.cat = 1, nSim = 100)"
   ]
  },
  {
   "cell_type": "markdown",
   "metadata": {},
   "source": [
    "#### Ornstein-Uhlenbeck one optima"
   ]
  },
  {
   "cell_type": "code",
   "execution_count": null,
   "metadata": {},
   "outputs": [],
   "source": [
    "R1_ou_ard <- hOUwie(phy, data, discrete_model = \"ARD\", continuous_model = \"OU1\", rate.cat = 1, nSim = 100)"
   ]
  },
  {
   "cell_type": "markdown",
   "metadata": {},
   "source": [
    "#### Ornstein-Uhlenbeck multiple optima"
   ]
  },
  {
   "cell_type": "code",
   "execution_count": null,
   "metadata": {},
   "outputs": [],
   "source": [
    "R1_oum_ard <- hOUwie(phy, data, discrete_model = \"ARD\", continuous_model = \"OUM\", rate.cat = 1, nSim = 100)"
   ]
  },
  {
   "cell_type": "markdown",
   "metadata": {},
   "source": [
    "### Two-rate category, equal rates"
   ]
  },
  {
   "cell_type": "markdown",
   "metadata": {},
   "source": [
    "### Brownian motion"
   ]
  },
  {
   "cell_type": "code",
   "execution_count": null,
   "metadata": {},
   "outputs": [],
   "source": [
    "R2_bm_er <- hOUwie(phy, data, discrete_model = \"ER\", continuous_model = \"BM1\", rate.cat = 2, nSim = 100)"
   ]
  },
  {
   "cell_type": "markdown",
   "metadata": {},
   "source": [
    "#### Ornstein-Uhlenbeck one optima"
   ]
  },
  {
   "cell_type": "code",
   "execution_count": null,
   "metadata": {},
   "outputs": [],
   "source": [
    "R2_ou_er <- hOUwie(phy, data, discrete_model = \"ER\", continuous_model = \"OU1\", rate.cat = 2, nSim = 100)"
   ]
  },
  {
   "cell_type": "markdown",
   "metadata": {},
   "source": [
    "#### Ornstein-Uhlenbeck multiple optima"
   ]
  },
  {
   "cell_type": "code",
   "execution_count": null,
   "metadata": {},
   "outputs": [],
   "source": [
    "R2_oum_er <- hOUwie(phy, data, discrete_model = \"ER\", continuous_model = \"OUM\", rate.cat = 2, nSim = 100)"
   ]
  },
  {
   "cell_type": "markdown",
   "metadata": {},
   "source": [
    "### Two-rate category, all rates differ"
   ]
  },
  {
   "cell_type": "markdown",
   "metadata": {},
   "source": [
    "### Brownian motion"
   ]
  },
  {
   "cell_type": "code",
   "execution_count": null,
   "metadata": {},
   "outputs": [],
   "source": [
    "R2_bm_ard <- hOUwie(phy, data, discrete_model = \"ARD\", continuous_model = \"BM1\", rate.cat = 2, nSim = 100)"
   ]
  },
  {
   "cell_type": "markdown",
   "metadata": {},
   "source": [
    "#### Ornstein-Uhlenbeck one optima"
   ]
  },
  {
   "cell_type": "code",
   "execution_count": null,
   "metadata": {},
   "outputs": [],
   "source": [
    "R2_ou_ard <- hOUwie(phy, data, discrete_model = \"ARD\", continuous_model = \"OU1\", rate.cat = 2, nSim = 100)"
   ]
  },
  {
   "cell_type": "markdown",
   "metadata": {},
   "source": [
    "#### Ornstein-Uhlenbeck multiple optima"
   ]
  },
  {
   "cell_type": "code",
   "execution_count": null,
   "metadata": {},
   "outputs": [],
   "source": [
    "R2_oum_ard <- hOUwie(phy, data, discrete_model = \"ARD\", continuous_model = \"OU1\", rate.cat = 2, nSim = 100)"
   ]
  },
  {
   "cell_type": "markdown",
   "metadata": {},
   "source": [
    "### Get AICc metrics"
   ]
  },
  {
   "cell_type": "code",
   "execution_count": null,
   "metadata": {
    "scrolled": true
   },
   "outputs": [],
   "source": [
    "model_set <- list(R1_bm_er = R1_bm_er, R1_ou_er = R1_ou_er, R1_oum_er = R1_oum_er,\n",
    "         R1_bm_ard = R1_bm_ard, R1_ou_ard = R1_ou_ard, R1_oum_ard = R1_oum_ard,\n",
    "         R2_bm_er = R2_bm_er, R2_ou_er = R2_ou_er, R2_oum_er = R2_oum_er,\n",
    "         R2_bm_ard = R2_bm_ard, R2_ou_ard = R2_ou_ard, R2_oum_ard = R2_oum_ard)\n",
    "print(getModelTable(model_set, type = \"AICc\"))"
   ]
  },
  {
   "cell_type": "markdown",
   "metadata": {},
   "source": [
    "### Save model ranking dataframe"
   ]
  },
  {
   "cell_type": "code",
   "execution_count": null,
   "metadata": {},
   "outputs": [],
   "source": [
    "write.table(getModelTable(model_set, type = \"AICc\"), paste(\"hOUwie/table_hOUwie_\", args[3], \"/\", args[1], \".tsv\", sep = '_'), sep =\"\\t\")"
   ]
  }
 ],
 "metadata": {
  "kernelspec": {
   "display_name": "R",
   "language": "R",
   "name": "ir"
  },
  "language_info": {
   "codemirror_mode": "r",
   "file_extension": ".r",
   "mimetype": "text/x-r-source",
   "name": "R",
   "pygments_lexer": "r",
   "version": "4.3.3"
  }
 },
 "nbformat": 4,
 "nbformat_minor": 4
}
