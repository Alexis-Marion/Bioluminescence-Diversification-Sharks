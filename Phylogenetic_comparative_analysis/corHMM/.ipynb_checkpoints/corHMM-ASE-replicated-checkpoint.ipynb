{
 "cells": [
  {
   "cell_type": "markdown",
   "metadata": {},
   "source": [
    "# Analyses of trait evolution (corHMM, posterior distribution)"
   ]
  },
  {
   "cell_type": "markdown",
   "metadata": {},
   "source": [
    "## Data preparation"
   ]
  },
  {
   "cell_type": "markdown",
   "metadata": {},
   "source": [
    "### Loading packages"
   ]
  },
  {
   "cell_type": "code",
   "execution_count": null,
   "metadata": {
    "scrolled": true
   },
   "outputs": [],
   "source": [
    "library(\"corHMM\")\n",
    "library(\"stringr\")\n",
    "library(\"phytools\")\n",
    "library(\"qpcR\")"
   ]
  },
  {
   "cell_type": "markdown",
   "metadata": {},
   "source": [
    "### Loading data"
   ]
  },
  {
   "cell_type": "code",
   "execution_count": null,
   "metadata": {},
   "outputs": [],
   "source": [
    "args<-commandArgs(trailingOnly = TRUE)"
   ]
  },
  {
   "cell_type": "code",
   "execution_count": null,
   "metadata": {},
   "outputs": [],
   "source": [
    "df<-read.csv(\"../../raw_data/Trait_data_Squaliformes_Fossil.tsv\", sep=\"\\t\") # omit sep =\"\\t\" for .csv files\n",
    "phy_all<-read.tree(args[1])"
   ]
  },
  {
   "cell_type": "markdown",
   "metadata": {},
   "source": [
    "### Cleaning and preparing data"
   ]
  },
  {
   "cell_type": "code",
   "execution_count": null,
   "metadata": {},
   "outputs": [],
   "source": [
    "df$Species<-str_replace(df$Species, \" \", \"_\")"
   ]
  },
  {
   "cell_type": "code",
   "execution_count": null,
   "metadata": {},
   "outputs": [],
   "source": [
    "states<-cbind(df$Species, df$Body.size, df$Bioluminescent, df$Habitat)"
   ]
  },
  {
   "cell_type": "code",
   "execution_count": null,
   "metadata": {},
   "outputs": [],
   "source": [
    "states_traits<-states[!states[,1] %in% setdiff(states[,1], phy_all[[1]]$tip.label),]"
   ]
  },
  {
   "cell_type": "code",
   "execution_count": null,
   "metadata": {},
   "outputs": [],
   "source": [
    "states_traits[is.na(states_traits)]<-\"?\""
   ]
  },
  {
   "cell_type": "code",
   "execution_count": null,
   "metadata": {},
   "outputs": [],
   "source": [
    "states_traits<-states_traits[,c(1, as.numeric(args[2]))]\n",
    "colnames(states_traits)<-c(\"Species\", \"Cat\")"
   ]
  },
  {
   "cell_type": "markdown",
   "metadata": {},
   "source": [
    "## Running corHMM on 100 posterior trees"
   ]
  },
  {
   "cell_type": "code",
   "execution_count": null,
   "metadata": {},
   "outputs": [],
   "source": [
    "for (i in 1:100){\n",
    "    \n",
    "    phy<-phy_all[[i]]\n",
    "    \n",
    "trait_1_eq<-corHMM(phy, states_traits, rate.cat = 1, rate.mat=NULL, model = \"ER\", node.states = \"marginal\",\n",
    "fixed.nodes=FALSE, p=NULL, root.p=\"yang\", ip=NULL, nstarts=0, n.cores=5,\n",
    "get.tip.states = TRUE, lewis.asc.bias = FALSE, collapse = TRUE, lower.bound = 1e-9,\n",
    "upper.bound = 100, opts=NULL)\n",
    "\n",
    "### Model 2 : all rates differ\n",
    "\n",
    "trait_1_ard<-corHMM(phy, states_traits, rate.cat = 1, rate.mat=NULL, model = \"ARD\", node.states = \"marginal\",\n",
    "fixed.nodes=FALSE, p=NULL, root.p=\"yang\", ip=NULL, nstarts=0, n.cores=5,\n",
    "get.tip.states = TRUE, lewis.asc.bias = FALSE, collapse = TRUE, lower.bound = 1e-9,\n",
    "upper.bound = 100, opts=NULL)\n",
    "\n",
    "### Model 1 : equal rates\n",
    "\n",
    "trait_2_eq<-corHMM(phy, states_traits, rate.cat = 2, rate.mat=NULL, model = \"ER\", node.states = \"marginal\",\n",
    "fixed.nodes=FALSE, p=NULL, root.p=\"yang\", ip=NULL, nstarts=0, n.cores=5,\n",
    "get.tip.states = TRUE, lewis.asc.bias = FALSE, collapse = TRUE, lower.bound = 1e-9,\n",
    "upper.bound = 100, opts=NULL)\n",
    "\n",
    "### Model 2 : all rates differ\n",
    "\n",
    "trait_2_ard<-corHMM(phy, states_traits, rate.cat = 2, rate.mat=NULL, model = \"ARD\", node.states = \"marginal\",\n",
    "fixed.nodes=FALSE, p=NULL, root.p=\"yang\", ip=NULL, nstarts=0, n.cores=5,\n",
    "get.tip.states = TRUE, lewis.asc.bias = FALSE, collapse = TRUE, lower.bound = 1e-9,\n",
    "upper.bound = 100, opts=NULL)\n",
    "\n",
    "### Model 1 : equal rates\n",
    "\n",
    "trait_3_eq<-corHMM(phy, states_traits, rate.cat = 3, rate.mat=NULL, model = \"ER\", node.states = \"marginal\",\n",
    "fixed.nodes=FALSE, p=NULL, root.p=\"yang\", ip=NULL, nstarts=0, n.cores=5,\n",
    "get.tip.states = TRUE, lewis.asc.bias = FALSE, collapse = TRUE, lower.bound = 1e-9,\n",
    "upper.bound = 100, opts=NULL)\n",
    "\n",
    "### Model 2 : all rates differ\n",
    "\n",
    "trait_3_ard<-corHMM(phy, states_traits, rate.cat = 3, rate.mat=NULL, model = \"ARD\", node.states = \"marginal\",\n",
    "fixed.nodes=FALSE, p=NULL, root.p=\"yang\", ip=NULL, nstarts=0, n.cores=5,\n",
    "get.tip.states = TRUE, lewis.asc.bias = FALSE, collapse = TRUE, lower.bound = 1e-9,\n",
    "upper.bound = 100, opts=NULL)\n",
    "\n",
    "data_trait<-data.frame(\n",
    "                  cbind(c(trait_1_eq$loglik, trait_1_ard$loglik,\n",
    "                          trait_2_eq$loglik, trait_2_ard$loglik,\n",
    "                          trait_3_eq$loglik, trait_3_ard$loglik),\n",
    "                        c(trait_1_eq$AICc, trait_1_ard$AICc,\n",
    "                          trait_2_eq$AICc, trait_2_ard$AICc,\n",
    "                          trait_3_eq$AICc, trait_3_ard$AICc),\n",
    "                akaike.weights(c(trait_1_eq$AICc, trait_1_ard$AICc,\n",
    "                          trait_2_eq$AICc, trait_2_ard$AICc,\n",
    "                          trait_3_eq$AICc,  trait_3_ard$AICc))$deltaAIC,\n",
    "                akaike.weights(c(trait_1_eq$AICc, trait_1_ard$AICc,\n",
    "                          trait_2_eq$AICc, trait_2_ard$AICc, \n",
    "                          trait_3_eq$AICc, trait_3_ard$AICc))$weights,\n",
    "                c((max(as.vector(trait_1_eq$index.mat)[!is.na(as.vector(trait_1_eq$index.mat))])), (max(as.vector(trait_1_ard$index.mat)[!is.na(as.vector(trait_1_ard$index.mat))])),\n",
    "(max(as.vector(trait_2_eq$index.mat)[!is.na(as.vector(trait_2_eq$index.mat))])), (max(as.vector(trait_2_ard$index.mat)[!is.na(as.vector(trait_2_ard$index.mat))])),\n",
    "(max(as.vector(trait_3_eq$index.mat)[!is.na(as.vector(trait_3_eq$index.mat))])), (max(as.vector(trait_3_ard$index.mat)[!is.na(as.vector(trait_3_ard$index.mat))])))\n",
    "                ))\n",
    "rownames(data_trait)<-c(\"trait_1_eq\", \"trait_1_ard\",\n",
    "                        \"trait_2_eq\",  \"trait_2_ard\",\n",
    "                        \"trait_3_eq\",  \"trait_3_ard\")\n",
    "colnames(data_trait)<-c(\"AICc\", \"Delta_AICc\", \"AICcWt\", \"K_rates\")\n",
    "\n",
    "    write.table(data_trait, paste(\"corHMM/\", args[3],\"/tab_replicate_\", i, \".tsv\", sep =\"\"), sep =\"\\t\")\n",
    "    saveRDS(eval(parse(text = rownames(data_trait)[which.min(data_trait$AICc)])), paste(\"corHMM/\", args[3],\"/tab_replicate_\", i, \".rds\", sep =\"\"))\n",
    "}"
   ]
  }
 ],
 "metadata": {
  "kernelspec": {
   "display_name": "R",
   "language": "R",
   "name": "ir"
  },
  "language_info": {
   "codemirror_mode": "r",
   "file_extension": ".r",
   "mimetype": "text/x-r-source",
   "name": "R",
   "pygments_lexer": "r",
   "version": "4.3.3"
  }
 },
 "nbformat": 4,
 "nbformat_minor": 4
}
